{
 "cells": [
  {
   "cell_type": "code",
   "execution_count": 11,
   "id": "3832563b-9324-4847-a9a9-d9da10095a02",
   "metadata": {},
   "outputs": [
    {
     "data": {
      "text/html": [
       "'C:/Users/ricop/OneDrive/Desktop/CST184-Data-Analysis-and-Visualization2-main/CST184-Data-Analysis-and-Visualization-main/CST184_Weekly_Activities/Week_13/P3_Hanna'"
      ],
      "text/latex": [
       "'C:/Users/ricop/OneDrive/Desktop/CST184-Data-Analysis-and-Visualization2-main/CST184-Data-Analysis-and-Visualization-main/CST184\\_Weekly\\_Activities/Week\\_13/P3\\_Hanna'"
      ],
      "text/markdown": [
       "'C:/Users/ricop/OneDrive/Desktop/CST184-Data-Analysis-and-Visualization2-main/CST184-Data-Analysis-and-Visualization-main/CST184_Weekly_Activities/Week_13/P3_Hanna'"
      ],
      "text/plain": [
       "[1] \"C:/Users/ricop/OneDrive/Desktop/CST184-Data-Analysis-and-Visualization2-main/CST184-Data-Analysis-and-Visualization-main/CST184_Weekly_Activities/Week_13/P3_Hanna\""
      ]
     },
     "metadata": {},
     "output_type": "display_data"
    },
    {
     "data": {
      "text/html": [
       "'Untitled.ipynb'"
      ],
      "text/latex": [
       "'Untitled.ipynb'"
      ],
      "text/markdown": [
       "'Untitled.ipynb'"
      ],
      "text/plain": [
       "[1] \"Untitled.ipynb\""
      ]
     },
     "metadata": {},
     "output_type": "display_data"
    }
   ],
   "source": [
    "getwd()\n",
    "list.files()"
   ]
  },
  {
   "cell_type": "code",
   "execution_count": 17,
   "id": "7bfaea35-ceb4-49bd-afae-12f9cc284e60",
   "metadata": {},
   "outputs": [
    {
     "data": {
      "text/html": [
       "<style>\n",
       ".list-inline {list-style: none; margin:0; padding: 0}\n",
       ".list-inline>li {display: inline-block}\n",
       ".list-inline>li:not(:last-child)::after {content: \"\\00b7\"; padding: 0 .5ex}\n",
       "</style>\n",
       "<ol class=list-inline><li>'Monthly mean sea levels with the average seasonal cycle removed.'</li><li>'The values are in meters relative to the most recent Mean Sea Level datum established by CO-OPS.'</li><li>'Column values are the Year; Month; Monthly Mean; Relative Sea Level Trend Line; Higher 95% Confidence Interval; and Lower 95% Confidence Interval.'</li><li>'Product of NOAAs National Ocean Service / Center for Operational Oceanographic Products and Services (CO-OPS)'</li><li>''</li></ol>\n"
      ],
      "text/latex": [
       "\\begin{enumerate*}\n",
       "\\item 'Monthly mean sea levels with the average seasonal cycle removed.'\n",
       "\\item 'The values are in meters relative to the most recent Mean Sea Level datum established by CO-OPS.'\n",
       "\\item 'Column values are the Year; Month; Monthly Mean; Relative Sea Level Trend Line; Higher 95\\% Confidence Interval; and Lower 95\\% Confidence Interval.'\n",
       "\\item 'Product of NOAAs National Ocean Service / Center for Operational Oceanographic Products and Services (CO-OPS)'\n",
       "\\item ''\n",
       "\\end{enumerate*}\n"
      ],
      "text/markdown": [
       "1. 'Monthly mean sea levels with the average seasonal cycle removed.'\n",
       "2. 'The values are in meters relative to the most recent Mean Sea Level datum established by CO-OPS.'\n",
       "3. 'Column values are the Year; Month; Monthly Mean; Relative Sea Level Trend Line; Higher 95% Confidence Interval; and Lower 95% Confidence Interval.'\n",
       "4. 'Product of NOAAs National Ocean Service / Center for Operational Oceanographic Products and Services (CO-OPS)'\n",
       "5. ''\n",
       "\n",
       "\n"
      ],
      "text/plain": [
       "[1] \"Monthly mean sea levels with the average seasonal cycle removed.\"                                                                                  \n",
       "[2] \"The values are in meters relative to the most recent Mean Sea Level datum established by CO-OPS.\"                                                  \n",
       "[3] \"Column values are the Year; Month; Monthly Mean; Relative Sea Level Trend Line; Higher 95% Confidence Interval; and Lower 95% Confidence Interval.\"\n",
       "[4] \"Product of NOAAs National Ocean Service / Center for Operational Oceanographic Products and Services (CO-OPS)\"                                     \n",
       "[5] \"\"                                                                                                                                                  "
      ]
     },
     "metadata": {},
     "output_type": "display_data"
    }
   ],
   "source": [
    "\n",
    "readLines(\"Tuvalu_Sea_Level.csv\", n = 5)"
   ]
  },
  {
   "cell_type": "code",
   "execution_count": 18,
   "id": "a4ca1062-89bd-48e4-a799-cd3d57aea28a",
   "metadata": {},
   "outputs": [
    {
     "data": {
      "text/html": [
       "<table class=\"dataframe\">\n",
       "<caption>A data.frame: 6 × 1</caption>\n",
       "<thead>\n",
       "\t<tr><th></th><th scope=col>Product.of.NOAAs.National.Ocean.Service...Center.for.Operational.Oceanographic.Products.and.Services..CO.OPS.</th></tr>\n",
       "\t<tr><th></th><th scope=col>&lt;chr&gt;</th></tr>\n",
       "</thead>\n",
       "<tbody>\n",
       "\t<tr><th scope=row>1</th><td>Year, Month, Monthly_MSL, Linear_Trend, High_Conf., Low_Conf.</td></tr>\n",
       "\t<tr><th scope=row>2</th><td>1977,11,6.919,6.923,6.961,6.886,                             </td></tr>\n",
       "\t<tr><th scope=row>3</th><td>1977,12,6.875,6.924,6.961,6.886,                             </td></tr>\n",
       "\t<tr><th scope=row>4</th><td>1978,1,6.829,6.924,6.962,6.886,                              </td></tr>\n",
       "\t<tr><th scope=row>5</th><td>1978,2,6.887,6.924,6.962,6.887,                              </td></tr>\n",
       "\t<tr><th scope=row>6</th><td>1978,3,6.921,6.925,6.962,6.887,                              </td></tr>\n",
       "</tbody>\n",
       "</table>\n"
      ],
      "text/latex": [
       "A data.frame: 6 × 1\n",
       "\\begin{tabular}{r|l}\n",
       "  & Product.of.NOAAs.National.Ocean.Service...Center.for.Operational.Oceanographic.Products.and.Services..CO.OPS.\\\\\n",
       "  & <chr>\\\\\n",
       "\\hline\n",
       "\t1 & Year, Month, Monthly\\_MSL, Linear\\_Trend, High\\_Conf., Low\\_Conf.\\\\\n",
       "\t2 & 1977,11,6.919,6.923,6.961,6.886,                             \\\\\n",
       "\t3 & 1977,12,6.875,6.924,6.961,6.886,                             \\\\\n",
       "\t4 & 1978,1,6.829,6.924,6.962,6.886,                              \\\\\n",
       "\t5 & 1978,2,6.887,6.924,6.962,6.887,                              \\\\\n",
       "\t6 & 1978,3,6.921,6.925,6.962,6.887,                              \\\\\n",
       "\\end{tabular}\n"
      ],
      "text/markdown": [
       "\n",
       "A data.frame: 6 × 1\n",
       "\n",
       "| <!--/--> | Product.of.NOAAs.National.Ocean.Service...Center.for.Operational.Oceanographic.Products.and.Services..CO.OPS. &lt;chr&gt; |\n",
       "|---|---|\n",
       "| 1 | Year, Month, Monthly_MSL, Linear_Trend, High_Conf., Low_Conf. |\n",
       "| 2 | 1977,11,6.919,6.923,6.961,6.886,                              |\n",
       "| 3 | 1977,12,6.875,6.924,6.961,6.886,                              |\n",
       "| 4 | 1978,1,6.829,6.924,6.962,6.886,                               |\n",
       "| 5 | 1978,2,6.887,6.924,6.962,6.887,                               |\n",
       "| 6 | 1978,3,6.921,6.925,6.962,6.887,                               |\n",
       "\n"
      ],
      "text/plain": [
       "  Product.of.NOAAs.National.Ocean.Service...Center.for.Operational.Oceanographic.Products.and.Services..CO.OPS.\n",
       "1 Year, Month, Monthly_MSL, Linear_Trend, High_Conf., Low_Conf.                                                \n",
       "2 1977,11,6.919,6.923,6.961,6.886,                                                                             \n",
       "3 1977,12,6.875,6.924,6.961,6.886,                                                                             \n",
       "4 1978,1,6.829,6.924,6.962,6.886,                                                                              \n",
       "5 1978,2,6.887,6.924,6.962,6.887,                                                                              \n",
       "6 1978,3,6.921,6.925,6.962,6.887,                                                                              "
      ]
     },
     "metadata": {},
     "output_type": "display_data"
    }
   ],
   "source": [
    "df <- read.csv(\"Tuvalu_Sea_Level.csv\",\n",
    "              sep = \";\",\n",
    "              skip = 3,\n",
    "              header = TRUE)\n",
    "head(df)"
   ]
  },
  {
   "cell_type": "code",
   "execution_count": 5,
   "id": "44909512-3756-4cd7-93a7-a305cf8d8826",
   "metadata": {},
   "outputs": [
    {
     "data": {
      "text/html": [
       "'data.frame'"
      ],
      "text/latex": [
       "'data.frame'"
      ],
      "text/markdown": [
       "'data.frame'"
      ],
      "text/plain": [
       "[1] \"data.frame\""
      ]
     },
     "metadata": {},
     "output_type": "display_data"
    },
    {
     "name": "stdout",
     "output_type": "stream",
     "text": [
      "'data.frame':\t522 obs. of  1 variable:\n",
      " $ Product.of.NOAAs.National.Ocean.Service...Center.for.Operational.Oceanographic.Products.and.Services..CO.OPS.: chr  \"Year, Month, Monthly_MSL, Linear_Trend, High_Conf., Low_Conf.\" \"1977,11,6.919,6.923,6.961,6.886,\" \"1977,12,6.875,6.924,6.961,6.886,\" \"1978,1,6.829,6.924,6.962,6.886,\" ...\n"
     ]
    },
    {
     "data": {
      "text/html": [
       "<table class=\"dataframe\">\n",
       "<caption>A data.frame: 6 × 1</caption>\n",
       "<thead>\n",
       "\t<tr><th></th><th scope=col>ProductofNOAAsNationalOceanServiceCenterforOperationalOceanographicProductsandServicesCOOPS</th></tr>\n",
       "\t<tr><th></th><th scope=col>&lt;chr&gt;</th></tr>\n",
       "</thead>\n",
       "<tbody>\n",
       "\t<tr><th scope=row>1</th><td>Year, Month, Monthly_MSL, Linear_Trend, High_Conf., Low_Conf.</td></tr>\n",
       "\t<tr><th scope=row>2</th><td>1977,11,6.919,6.923,6.961,6.886,                             </td></tr>\n",
       "\t<tr><th scope=row>3</th><td>1977,12,6.875,6.924,6.961,6.886,                             </td></tr>\n",
       "\t<tr><th scope=row>4</th><td>1978,1,6.829,6.924,6.962,6.886,                              </td></tr>\n",
       "\t<tr><th scope=row>5</th><td>1978,2,6.887,6.924,6.962,6.887,                              </td></tr>\n",
       "\t<tr><th scope=row>6</th><td>1978,3,6.921,6.925,6.962,6.887,                              </td></tr>\n",
       "</tbody>\n",
       "</table>\n"
      ],
      "text/latex": [
       "A data.frame: 6 × 1\n",
       "\\begin{tabular}{r|l}\n",
       "  & ProductofNOAAsNationalOceanServiceCenterforOperationalOceanographicProductsandServicesCOOPS\\\\\n",
       "  & <chr>\\\\\n",
       "\\hline\n",
       "\t1 & Year, Month, Monthly\\_MSL, Linear\\_Trend, High\\_Conf., Low\\_Conf.\\\\\n",
       "\t2 & 1977,11,6.919,6.923,6.961,6.886,                             \\\\\n",
       "\t3 & 1977,12,6.875,6.924,6.961,6.886,                             \\\\\n",
       "\t4 & 1978,1,6.829,6.924,6.962,6.886,                              \\\\\n",
       "\t5 & 1978,2,6.887,6.924,6.962,6.887,                              \\\\\n",
       "\t6 & 1978,3,6.921,6.925,6.962,6.887,                              \\\\\n",
       "\\end{tabular}\n"
      ],
      "text/markdown": [
       "\n",
       "A data.frame: 6 × 1\n",
       "\n",
       "| <!--/--> | ProductofNOAAsNationalOceanServiceCenterforOperationalOceanographicProductsandServicesCOOPS &lt;chr&gt; |\n",
       "|---|---|\n",
       "| 1 | Year, Month, Monthly_MSL, Linear_Trend, High_Conf., Low_Conf. |\n",
       "| 2 | 1977,11,6.919,6.923,6.961,6.886,                              |\n",
       "| 3 | 1977,12,6.875,6.924,6.961,6.886,                              |\n",
       "| 4 | 1978,1,6.829,6.924,6.962,6.886,                               |\n",
       "| 5 | 1978,2,6.887,6.924,6.962,6.887,                               |\n",
       "| 6 | 1978,3,6.921,6.925,6.962,6.887,                               |\n",
       "\n"
      ],
      "text/plain": [
       "  ProductofNOAAsNationalOceanServiceCenterforOperationalOceanographicProductsandServicesCOOPS\n",
       "1 Year, Month, Monthly_MSL, Linear_Trend, High_Conf., Low_Conf.                              \n",
       "2 1977,11,6.919,6.923,6.961,6.886,                                                           \n",
       "3 1977,12,6.875,6.924,6.961,6.886,                                                           \n",
       "4 1978,1,6.829,6.924,6.962,6.886,                                                            \n",
       "5 1978,2,6.887,6.924,6.962,6.887,                                                            \n",
       "6 1978,3,6.921,6.925,6.962,6.887,                                                            "
      ]
     },
     "metadata": {},
     "output_type": "display_data"
    }
   ],
   "source": [
    "df <- read.csv(\"Tuvalu_Sea_Level.csv\",\n",
    "              sep = \";\",\n",
    "              skip = 3,\n",
    "              header = TRUE)\n",
    "              stringAsFactors = FALSE\n",
    "class(df)\n",
    "str(df)\n",
    "\n",
    "names(df) <- gsub(\"\\\\s+\", \"_\", names(df))\n",
    "names(df) <- gsub(\"[^A-Za-z0-9_]\", \"\", names(df))\n",
    "\n",
    "head(df)\n"
   ]
  },
  {
   "cell_type": "code",
   "execution_count": 15,
   "id": "365b447e-8190-4f8c-8a6e-e16e9777f4fb",
   "metadata": {},
   "outputs": [
    {
     "data": {
      "text/html": [
       "<table class=\"dataframe\">\n",
       "<caption>A data.frame: 6 × 7</caption>\n",
       "<thead>\n",
       "\t<tr><th></th><th scope=col>row.names</th><th scope=col>Year</th><th scope=col>Month</th><th scope=col>Monthly_MSL</th><th scope=col>Linear_Trend</th><th scope=col>High_Conf.</th><th scope=col>Low_Conf.</th></tr>\n",
       "\t<tr><th></th><th scope=col>&lt;chr&gt;</th><th scope=col>&lt;int&gt;</th><th scope=col>&lt;dbl&gt;</th><th scope=col>&lt;dbl&gt;</th><th scope=col>&lt;dbl&gt;</th><th scope=col>&lt;dbl&gt;</th><th scope=col>&lt;lgl&gt;</th></tr>\n",
       "</thead>\n",
       "<tbody>\n",
       "\t<tr><th scope=row>1</th><td>1977</td><td>11</td><td>6.919</td><td>6.923</td><td>6.961</td><td>6.886</td><td>NA</td></tr>\n",
       "\t<tr><th scope=row>2</th><td>1977</td><td>12</td><td>6.875</td><td>6.924</td><td>6.961</td><td>6.886</td><td>NA</td></tr>\n",
       "\t<tr><th scope=row>3</th><td>1978</td><td> 1</td><td>6.829</td><td>6.924</td><td>6.962</td><td>6.886</td><td>NA</td></tr>\n",
       "\t<tr><th scope=row>4</th><td>1978</td><td> 2</td><td>6.887</td><td>6.924</td><td>6.962</td><td>6.887</td><td>NA</td></tr>\n",
       "\t<tr><th scope=row>5</th><td>1978</td><td> 3</td><td>6.921</td><td>6.925</td><td>6.962</td><td>6.887</td><td>NA</td></tr>\n",
       "\t<tr><th scope=row>6</th><td>1978</td><td> 4</td><td>7.011</td><td>6.925</td><td>6.962</td><td>6.888</td><td>NA</td></tr>\n",
       "</tbody>\n",
       "</table>\n"
      ],
      "text/latex": [
       "A data.frame: 6 × 7\n",
       "\\begin{tabular}{r|lllllll}\n",
       "  & row.names & Year & Month & Monthly\\_MSL & Linear\\_Trend & High\\_Conf. & Low\\_Conf.\\\\\n",
       "  & <chr> & <int> & <dbl> & <dbl> & <dbl> & <dbl> & <lgl>\\\\\n",
       "\\hline\n",
       "\t1 & 1977 & 11 & 6.919 & 6.923 & 6.961 & 6.886 & NA\\\\\n",
       "\t2 & 1977 & 12 & 6.875 & 6.924 & 6.961 & 6.886 & NA\\\\\n",
       "\t3 & 1978 &  1 & 6.829 & 6.924 & 6.962 & 6.886 & NA\\\\\n",
       "\t4 & 1978 &  2 & 6.887 & 6.924 & 6.962 & 6.887 & NA\\\\\n",
       "\t5 & 1978 &  3 & 6.921 & 6.925 & 6.962 & 6.887 & NA\\\\\n",
       "\t6 & 1978 &  4 & 7.011 & 6.925 & 6.962 & 6.888 & NA\\\\\n",
       "\\end{tabular}\n"
      ],
      "text/markdown": [
       "\n",
       "A data.frame: 6 × 7\n",
       "\n",
       "| <!--/--> | row.names &lt;chr&gt; | Year &lt;int&gt; | Month &lt;dbl&gt; | Monthly_MSL &lt;dbl&gt; | Linear_Trend &lt;dbl&gt; | High_Conf. &lt;dbl&gt; | Low_Conf. &lt;lgl&gt; |\n",
       "|---|---|---|---|---|---|---|---|\n",
       "| 1 | 1977 | 11 | 6.919 | 6.923 | 6.961 | 6.886 | NA |\n",
       "| 2 | 1977 | 12 | 6.875 | 6.924 | 6.961 | 6.886 | NA |\n",
       "| 3 | 1978 |  1 | 6.829 | 6.924 | 6.962 | 6.886 | NA |\n",
       "| 4 | 1978 |  2 | 6.887 | 6.924 | 6.962 | 6.887 | NA |\n",
       "| 5 | 1978 |  3 | 6.921 | 6.925 | 6.962 | 6.887 | NA |\n",
       "| 6 | 1978 |  4 | 7.011 | 6.925 | 6.962 | 6.888 | NA |\n",
       "\n"
      ],
      "text/plain": [
       "  row.names Year Month Monthly_MSL Linear_Trend High_Conf. Low_Conf.\n",
       "1 1977      11   6.919 6.923       6.961        6.886      NA       \n",
       "2 1977      12   6.875 6.924       6.961        6.886      NA       \n",
       "3 1978       1   6.829 6.924       6.962        6.886      NA       \n",
       "4 1978       2   6.887 6.924       6.962        6.887      NA       \n",
       "5 1978       3   6.921 6.925       6.962        6.887      NA       \n",
       "6 1978       4   7.011 6.925       6.962        6.888      NA       "
      ]
     },
     "metadata": {},
     "output_type": "display_data"
    }
   ],
   "source": [
    "df <- read.csv(\"Tuvalu_Sea_Level.csv\",\n",
    "               sep = \",\",\n",
    "               skip = 4,\n",
    "               header = TRUE,\n",
    "               row.names = NULL)\n",
    "\n",
    "head(df)\n"
   ]
  },
  {
   "cell_type": "code",
   "execution_count": 38,
   "id": "4dc106cc-a535-40aa-baa1-e9d60f215543",
   "metadata": {},
   "outputs": [
    {
     "data": {
      "text/html": [
       "<table class=\"dataframe\">\n",
       "<caption>A data.frame: 6 × 7</caption>\n",
       "<thead>\n",
       "\t<tr><th></th><th scope=col>row.names</th><th scope=col>Year</th><th scope=col>Month</th><th scope=col>Monthly_MSL</th><th scope=col>Linear_Trend</th><th scope=col>High_Conf.</th><th scope=col>Low_Conf.</th></tr>\n",
       "\t<tr><th></th><th scope=col>&lt;chr&gt;</th><th scope=col>&lt;int&gt;</th><th scope=col>&lt;dbl&gt;</th><th scope=col>&lt;dbl&gt;</th><th scope=col>&lt;dbl&gt;</th><th scope=col>&lt;dbl&gt;</th><th scope=col>&lt;lgl&gt;</th></tr>\n",
       "</thead>\n",
       "<tbody>\n",
       "\t<tr><th scope=row>1</th><td>1977</td><td>11</td><td>6.919</td><td>6.923</td><td>6.961</td><td>6.886</td><td>NA</td></tr>\n",
       "\t<tr><th scope=row>2</th><td>1977</td><td>12</td><td>6.875</td><td>6.924</td><td>6.961</td><td>6.886</td><td>NA</td></tr>\n",
       "\t<tr><th scope=row>3</th><td>1978</td><td> 1</td><td>6.829</td><td>6.924</td><td>6.962</td><td>6.886</td><td>NA</td></tr>\n",
       "\t<tr><th scope=row>4</th><td>1978</td><td> 2</td><td>6.887</td><td>6.924</td><td>6.962</td><td>6.887</td><td>NA</td></tr>\n",
       "\t<tr><th scope=row>5</th><td>1978</td><td> 3</td><td>6.921</td><td>6.925</td><td>6.962</td><td>6.887</td><td>NA</td></tr>\n",
       "\t<tr><th scope=row>6</th><td>1978</td><td> 4</td><td>7.011</td><td>6.925</td><td>6.962</td><td>6.888</td><td>NA</td></tr>\n",
       "</tbody>\n",
       "</table>\n"
      ],
      "text/latex": [
       "A data.frame: 6 × 7\n",
       "\\begin{tabular}{r|lllllll}\n",
       "  & row.names & Year & Month & Monthly\\_MSL & Linear\\_Trend & High\\_Conf. & Low\\_Conf.\\\\\n",
       "  & <chr> & <int> & <dbl> & <dbl> & <dbl> & <dbl> & <lgl>\\\\\n",
       "\\hline\n",
       "\t1 & 1977 & 11 & 6.919 & 6.923 & 6.961 & 6.886 & NA\\\\\n",
       "\t2 & 1977 & 12 & 6.875 & 6.924 & 6.961 & 6.886 & NA\\\\\n",
       "\t3 & 1978 &  1 & 6.829 & 6.924 & 6.962 & 6.886 & NA\\\\\n",
       "\t4 & 1978 &  2 & 6.887 & 6.924 & 6.962 & 6.887 & NA\\\\\n",
       "\t5 & 1978 &  3 & 6.921 & 6.925 & 6.962 & 6.887 & NA\\\\\n",
       "\t6 & 1978 &  4 & 7.011 & 6.925 & 6.962 & 6.888 & NA\\\\\n",
       "\\end{tabular}\n"
      ],
      "text/markdown": [
       "\n",
       "A data.frame: 6 × 7\n",
       "\n",
       "| <!--/--> | row.names &lt;chr&gt; | Year &lt;int&gt; | Month &lt;dbl&gt; | Monthly_MSL &lt;dbl&gt; | Linear_Trend &lt;dbl&gt; | High_Conf. &lt;dbl&gt; | Low_Conf. &lt;lgl&gt; |\n",
       "|---|---|---|---|---|---|---|---|\n",
       "| 1 | 1977 | 11 | 6.919 | 6.923 | 6.961 | 6.886 | NA |\n",
       "| 2 | 1977 | 12 | 6.875 | 6.924 | 6.961 | 6.886 | NA |\n",
       "| 3 | 1978 |  1 | 6.829 | 6.924 | 6.962 | 6.886 | NA |\n",
       "| 4 | 1978 |  2 | 6.887 | 6.924 | 6.962 | 6.887 | NA |\n",
       "| 5 | 1978 |  3 | 6.921 | 6.925 | 6.962 | 6.887 | NA |\n",
       "| 6 | 1978 |  4 | 7.011 | 6.925 | 6.962 | 6.888 | NA |\n",
       "\n"
      ],
      "text/plain": [
       "  row.names Year Month Monthly_MSL Linear_Trend High_Conf. Low_Conf.\n",
       "1 1977      11   6.919 6.923       6.961        6.886      NA       \n",
       "2 1977      12   6.875 6.924       6.961        6.886      NA       \n",
       "3 1978       1   6.829 6.924       6.962        6.886      NA       \n",
       "4 1978       2   6.887 6.924       6.962        6.887      NA       \n",
       "5 1978       3   6.921 6.925       6.962        6.887      NA       \n",
       "6 1978       4   7.011 6.925       6.962        6.888      NA       "
      ]
     },
     "metadata": {},
     "output_type": "display_data"
    }
   ],
   "source": [
    "head(df)"
   ]
  },
  {
   "cell_type": "code",
   "execution_count": 40,
   "id": "9e76ec3f-34de-4ea6-977f-6439a6bfc052",
   "metadata": {},
   "outputs": [
    {
     "name": "stderr",
     "output_type": "stream",
     "text": [
      "Installing package into 'C:/Users/ricop/AppData/Local/R/win-library/4.5'\n",
      "(as 'lib' is unspecified)\n",
      "\n",
      "Warning message:\n",
      "\"package 'purr' is not available for this version of R\n",
      "\n",
      "A version of this package for your version of R might be available elsewhere,\n",
      "see the ideas at\n",
      "https://cran.r-project.org/doc/manuals/r-patched/R-admin.html#Installing-packages\"\n"
     ]
    }
   ],
   "source": [
    "install.packages(\"purr\")\n"
   ]
  },
  {
   "cell_type": "code",
   "execution_count": 56,
   "id": "0e87c503-0a12-4232-9374-6fc3037586d8",
   "metadata": {},
   "outputs": [
    {
     "data": {
      "text/html": [
       "<table class=\"dataframe\">\n",
       "<caption>A data.frame: 6 × 7</caption>\n",
       "<thead>\n",
       "\t<tr><th></th><th scope=col>row.names</th><th scope=col>Year</th><th scope=col>Month</th><th scope=col>Monthly_MSL</th><th scope=col>Linear_Trend</th><th scope=col>High_Conf.</th><th scope=col>Low_Conf.</th></tr>\n",
       "\t<tr><th></th><th scope=col>&lt;chr&gt;</th><th scope=col>&lt;int&gt;</th><th scope=col>&lt;dbl&gt;</th><th scope=col>&lt;dbl&gt;</th><th scope=col>&lt;dbl&gt;</th><th scope=col>&lt;dbl&gt;</th><th scope=col>&lt;lgl&gt;</th></tr>\n",
       "</thead>\n",
       "<tbody>\n",
       "\t<tr><th scope=row>1</th><td>1977</td><td>11</td><td>6.919</td><td>6.923</td><td>6.961</td><td>6.886</td><td>NA</td></tr>\n",
       "\t<tr><th scope=row>2</th><td>1977</td><td>12</td><td>6.875</td><td>6.924</td><td>6.961</td><td>6.886</td><td>NA</td></tr>\n",
       "\t<tr><th scope=row>3</th><td>1978</td><td> 1</td><td>6.829</td><td>6.924</td><td>6.962</td><td>6.886</td><td>NA</td></tr>\n",
       "\t<tr><th scope=row>4</th><td>1978</td><td> 2</td><td>6.887</td><td>6.924</td><td>6.962</td><td>6.887</td><td>NA</td></tr>\n",
       "\t<tr><th scope=row>5</th><td>1978</td><td> 3</td><td>6.921</td><td>6.925</td><td>6.962</td><td>6.887</td><td>NA</td></tr>\n",
       "\t<tr><th scope=row>6</th><td>1978</td><td> 4</td><td>7.011</td><td>6.925</td><td>6.962</td><td>6.888</td><td>NA</td></tr>\n",
       "</tbody>\n",
       "</table>\n"
      ],
      "text/latex": [
       "A data.frame: 6 × 7\n",
       "\\begin{tabular}{r|lllllll}\n",
       "  & row.names & Year & Month & Monthly\\_MSL & Linear\\_Trend & High\\_Conf. & Low\\_Conf.\\\\\n",
       "  & <chr> & <int> & <dbl> & <dbl> & <dbl> & <dbl> & <lgl>\\\\\n",
       "\\hline\n",
       "\t1 & 1977 & 11 & 6.919 & 6.923 & 6.961 & 6.886 & NA\\\\\n",
       "\t2 & 1977 & 12 & 6.875 & 6.924 & 6.961 & 6.886 & NA\\\\\n",
       "\t3 & 1978 &  1 & 6.829 & 6.924 & 6.962 & 6.886 & NA\\\\\n",
       "\t4 & 1978 &  2 & 6.887 & 6.924 & 6.962 & 6.887 & NA\\\\\n",
       "\t5 & 1978 &  3 & 6.921 & 6.925 & 6.962 & 6.887 & NA\\\\\n",
       "\t6 & 1978 &  4 & 7.011 & 6.925 & 6.962 & 6.888 & NA\\\\\n",
       "\\end{tabular}\n"
      ],
      "text/markdown": [
       "\n",
       "A data.frame: 6 × 7\n",
       "\n",
       "| <!--/--> | row.names &lt;chr&gt; | Year &lt;int&gt; | Month &lt;dbl&gt; | Monthly_MSL &lt;dbl&gt; | Linear_Trend &lt;dbl&gt; | High_Conf. &lt;dbl&gt; | Low_Conf. &lt;lgl&gt; |\n",
       "|---|---|---|---|---|---|---|---|\n",
       "| 1 | 1977 | 11 | 6.919 | 6.923 | 6.961 | 6.886 | NA |\n",
       "| 2 | 1977 | 12 | 6.875 | 6.924 | 6.961 | 6.886 | NA |\n",
       "| 3 | 1978 |  1 | 6.829 | 6.924 | 6.962 | 6.886 | NA |\n",
       "| 4 | 1978 |  2 | 6.887 | 6.924 | 6.962 | 6.887 | NA |\n",
       "| 5 | 1978 |  3 | 6.921 | 6.925 | 6.962 | 6.887 | NA |\n",
       "| 6 | 1978 |  4 | 7.011 | 6.925 | 6.962 | 6.888 | NA |\n",
       "\n"
      ],
      "text/plain": [
       "  row.names Year Month Monthly_MSL Linear_Trend High_Conf. Low_Conf.\n",
       "1 1977      11   6.919 6.923       6.961        6.886      NA       \n",
       "2 1977      12   6.875 6.924       6.961        6.886      NA       \n",
       "3 1978       1   6.829 6.924       6.962        6.886      NA       \n",
       "4 1978       2   6.887 6.924       6.962        6.887      NA       \n",
       "5 1978       3   6.921 6.925       6.962        6.887      NA       \n",
       "6 1978       4   7.011 6.925       6.962        6.888      NA       "
      ]
     },
     "metadata": {},
     "output_type": "display_data"
    }
   ],
   "source": [
    "head(df)"
   ]
  },
  {
   "cell_type": "code",
   "execution_count": 72,
   "id": "25096084-e7c0-4378-a3ca-6ef8107ec933",
   "metadata": {},
   "outputs": [
    {
     "data": {
      "text/html": [
       "<style>\n",
       ".list-inline {list-style: none; margin:0; padding: 0}\n",
       ".list-inline>li {display: inline-block}\n",
       ".list-inline>li:not(:last-child)::after {content: \"\\00b7\"; padding: 0 .5ex}\n",
       "</style>\n",
       "<ol class=list-inline><li>'Monthly mean sea levels with the average seasonal cycle removed.'</li><li>'The values are in meters relative to the most recent Mean Sea Level datum established by CO-OPS.'</li><li>'Column values are the Year; Month; Monthly Mean; Relative Sea Level Trend Line; Higher 95% Confidence Interval; and Lower 95% Confidence Interval.'</li><li>'Product of NOAAs National Ocean Service / Center for Operational Oceanographic Products and Services (CO-OPS)'</li><li>''</li><li>'Year, Month, Monthly_MSL, Linear_Trend, High_Conf., Low_Conf.'</li><li>'1965,1,7.029,7.010,7.021,6.998,'</li><li>'1965,2,7.147,7.010,7.022,6.998,'</li><li>'1965,3,7.150,7.010,7.022,6.998,'</li><li>'1965,4,7.100,7.010,7.022,6.999,'</li></ol>\n"
      ],
      "text/latex": [
       "\\begin{enumerate*}\n",
       "\\item 'Monthly mean sea levels with the average seasonal cycle removed.'\n",
       "\\item 'The values are in meters relative to the most recent Mean Sea Level datum established by CO-OPS.'\n",
       "\\item 'Column values are the Year; Month; Monthly Mean; Relative Sea Level Trend Line; Higher 95\\% Confidence Interval; and Lower 95\\% Confidence Interval.'\n",
       "\\item 'Product of NOAAs National Ocean Service / Center for Operational Oceanographic Products and Services (CO-OPS)'\n",
       "\\item ''\n",
       "\\item 'Year, Month, Monthly\\_MSL, Linear\\_Trend, High\\_Conf., Low\\_Conf.'\n",
       "\\item '1965,1,7.029,7.010,7.021,6.998,'\n",
       "\\item '1965,2,7.147,7.010,7.022,6.998,'\n",
       "\\item '1965,3,7.150,7.010,7.022,6.998,'\n",
       "\\item '1965,4,7.100,7.010,7.022,6.999,'\n",
       "\\end{enumerate*}\n"
      ],
      "text/markdown": [
       "1. 'Monthly mean sea levels with the average seasonal cycle removed.'\n",
       "2. 'The values are in meters relative to the most recent Mean Sea Level datum established by CO-OPS.'\n",
       "3. 'Column values are the Year; Month; Monthly Mean; Relative Sea Level Trend Line; Higher 95% Confidence Interval; and Lower 95% Confidence Interval.'\n",
       "4. 'Product of NOAAs National Ocean Service / Center for Operational Oceanographic Products and Services (CO-OPS)'\n",
       "5. ''\n",
       "6. 'Year, Month, Monthly_MSL, Linear_Trend, High_Conf., Low_Conf.'\n",
       "7. '1965,1,7.029,7.010,7.021,6.998,'\n",
       "8. '1965,2,7.147,7.010,7.022,6.998,'\n",
       "9. '1965,3,7.150,7.010,7.022,6.998,'\n",
       "10. '1965,4,7.100,7.010,7.022,6.999,'\n",
       "\n",
       "\n"
      ],
      "text/plain": [
       " [1] \"Monthly mean sea levels with the average seasonal cycle removed.\"                                                                                  \n",
       " [2] \"The values are in meters relative to the most recent Mean Sea Level datum established by CO-OPS.\"                                                  \n",
       " [3] \"Column values are the Year; Month; Monthly Mean; Relative Sea Level Trend Line; Higher 95% Confidence Interval; and Lower 95% Confidence Interval.\"\n",
       " [4] \"Product of NOAAs National Ocean Service / Center for Operational Oceanographic Products and Services (CO-OPS)\"                                     \n",
       " [5] \"\"                                                                                                                                                  \n",
       " [6] \"Year, Month, Monthly_MSL, Linear_Trend, High_Conf., Low_Conf.\"                                                                                     \n",
       " [7] \"1965,1,7.029,7.010,7.021,6.998,\"                                                                                                                   \n",
       " [8] \"1965,2,7.147,7.010,7.022,6.998,\"                                                                                                                   \n",
       " [9] \"1965,3,7.150,7.010,7.022,6.998,\"                                                                                                                   \n",
       "[10] \"1965,4,7.100,7.010,7.022,6.999,\"                                                                                                                   "
      ]
     },
     "metadata": {},
     "output_type": "display_data"
    },
    {
     "data": {
      "text/html": [
       "<table class=\"dataframe\">\n",
       "<caption>A data.frame: 6 × 7</caption>\n",
       "<thead>\n",
       "\t<tr><th></th><th scope=col>row.names</th><th scope=col>Year</th><th scope=col>Month</th><th scope=col>Monthly_MSL</th><th scope=col>Linear_Trend</th><th scope=col>High_Conf.</th><th scope=col>Low_Conf.</th></tr>\n",
       "\t<tr><th></th><th scope=col>&lt;chr&gt;</th><th scope=col>&lt;int&gt;</th><th scope=col>&lt;dbl&gt;</th><th scope=col>&lt;dbl&gt;</th><th scope=col>&lt;dbl&gt;</th><th scope=col>&lt;dbl&gt;</th><th scope=col>&lt;lgl&gt;</th></tr>\n",
       "</thead>\n",
       "<tbody>\n",
       "\t<tr><th scope=row>1</th><td>1965</td><td>1</td><td>7.029</td><td>7.01</td><td>7.021</td><td>6.998</td><td>NA</td></tr>\n",
       "\t<tr><th scope=row>2</th><td>1965</td><td>2</td><td>7.147</td><td>7.01</td><td>7.022</td><td>6.998</td><td>NA</td></tr>\n",
       "\t<tr><th scope=row>3</th><td>1965</td><td>3</td><td>7.150</td><td>7.01</td><td>7.022</td><td>6.998</td><td>NA</td></tr>\n",
       "\t<tr><th scope=row>4</th><td>1965</td><td>4</td><td>7.100</td><td>7.01</td><td>7.022</td><td>6.999</td><td>NA</td></tr>\n",
       "\t<tr><th scope=row>5</th><td>1965</td><td>6</td><td>7.076</td><td>7.01</td><td>7.022</td><td>6.999</td><td>NA</td></tr>\n",
       "\t<tr><th scope=row>6</th><td>1965</td><td>7</td><td>7.067</td><td>7.01</td><td>7.022</td><td>6.999</td><td>NA</td></tr>\n",
       "</tbody>\n",
       "</table>\n"
      ],
      "text/latex": [
       "A data.frame: 6 × 7\n",
       "\\begin{tabular}{r|lllllll}\n",
       "  & row.names & Year & Month & Monthly\\_MSL & Linear\\_Trend & High\\_Conf. & Low\\_Conf.\\\\\n",
       "  & <chr> & <int> & <dbl> & <dbl> & <dbl> & <dbl> & <lgl>\\\\\n",
       "\\hline\n",
       "\t1 & 1965 & 1 & 7.029 & 7.01 & 7.021 & 6.998 & NA\\\\\n",
       "\t2 & 1965 & 2 & 7.147 & 7.01 & 7.022 & 6.998 & NA\\\\\n",
       "\t3 & 1965 & 3 & 7.150 & 7.01 & 7.022 & 6.998 & NA\\\\\n",
       "\t4 & 1965 & 4 & 7.100 & 7.01 & 7.022 & 6.999 & NA\\\\\n",
       "\t5 & 1965 & 6 & 7.076 & 7.01 & 7.022 & 6.999 & NA\\\\\n",
       "\t6 & 1965 & 7 & 7.067 & 7.01 & 7.022 & 6.999 & NA\\\\\n",
       "\\end{tabular}\n"
      ],
      "text/markdown": [
       "\n",
       "A data.frame: 6 × 7\n",
       "\n",
       "| <!--/--> | row.names &lt;chr&gt; | Year &lt;int&gt; | Month &lt;dbl&gt; | Monthly_MSL &lt;dbl&gt; | Linear_Trend &lt;dbl&gt; | High_Conf. &lt;dbl&gt; | Low_Conf. &lt;lgl&gt; |\n",
       "|---|---|---|---|---|---|---|---|\n",
       "| 1 | 1965 | 1 | 7.029 | 7.01 | 7.021 | 6.998 | NA |\n",
       "| 2 | 1965 | 2 | 7.147 | 7.01 | 7.022 | 6.998 | NA |\n",
       "| 3 | 1965 | 3 | 7.150 | 7.01 | 7.022 | 6.998 | NA |\n",
       "| 4 | 1965 | 4 | 7.100 | 7.01 | 7.022 | 6.999 | NA |\n",
       "| 5 | 1965 | 6 | 7.076 | 7.01 | 7.022 | 6.999 | NA |\n",
       "| 6 | 1965 | 7 | 7.067 | 7.01 | 7.022 | 6.999 | NA |\n",
       "\n"
      ],
      "text/plain": [
       "  row.names Year Month Monthly_MSL Linear_Trend High_Conf. Low_Conf.\n",
       "1 1965      1    7.029 7.01        7.021        6.998      NA       \n",
       "2 1965      2    7.147 7.01        7.022        6.998      NA       \n",
       "3 1965      3    7.150 7.01        7.022        6.998      NA       \n",
       "4 1965      4    7.100 7.01        7.022        6.999      NA       \n",
       "5 1965      6    7.076 7.01        7.022        6.999      NA       \n",
       "6 1965      7    7.067 7.01        7.022        6.999      NA       "
      ]
     },
     "metadata": {},
     "output_type": "display_data"
    }
   ],
   "source": [
    "readLines(\"japan_meantrend.csv\", n = 10)\n",
    "japan <- read.csv(\"japan_meantrend.csv\", \n",
    "                  sep = \",\", header = TRUE, skip = 4,\n",
    "                  fill = TRUE, row.names = NULL, check.names = FALSE)\n",
    "head(japan)"
   ]
  },
  {
   "cell_type": "code",
   "execution_count": 76,
   "id": "4600b4ad-b7a8-412c-ac43-70b453d1f161",
   "metadata": {},
   "outputs": [
    {
     "data": {
      "text/html": [
       "<table class=\"dataframe\">\n",
       "<caption>A data.frame: 6 × 7</caption>\n",
       "<thead>\n",
       "\t<tr><th></th><th scope=col>row.names</th><th scope=col>Year</th><th scope=col>Month</th><th scope=col>Monthly_MSL</th><th scope=col>Linear_Trend</th><th scope=col>High_Conf.</th><th scope=col>Low_Conf.</th></tr>\n",
       "\t<tr><th></th><th scope=col>&lt;chr&gt;</th><th scope=col>&lt;int&gt;</th><th scope=col>&lt;dbl&gt;</th><th scope=col>&lt;dbl&gt;</th><th scope=col>&lt;dbl&gt;</th><th scope=col>&lt;dbl&gt;</th><th scope=col>&lt;lgl&gt;</th></tr>\n",
       "</thead>\n",
       "<tbody>\n",
       "\t<tr><th scope=row>1</th><td>1977</td><td>11</td><td>6.919</td><td>6.923</td><td>6.961</td><td>6.886</td><td>NA</td></tr>\n",
       "\t<tr><th scope=row>2</th><td>1977</td><td>12</td><td>6.875</td><td>6.924</td><td>6.961</td><td>6.886</td><td>NA</td></tr>\n",
       "\t<tr><th scope=row>3</th><td>1978</td><td> 1</td><td>6.829</td><td>6.924</td><td>6.962</td><td>6.886</td><td>NA</td></tr>\n",
       "\t<tr><th scope=row>4</th><td>1978</td><td> 2</td><td>6.887</td><td>6.924</td><td>6.962</td><td>6.887</td><td>NA</td></tr>\n",
       "\t<tr><th scope=row>5</th><td>1978</td><td> 3</td><td>6.921</td><td>6.925</td><td>6.962</td><td>6.887</td><td>NA</td></tr>\n",
       "\t<tr><th scope=row>6</th><td>1978</td><td> 4</td><td>7.011</td><td>6.925</td><td>6.962</td><td>6.888</td><td>NA</td></tr>\n",
       "</tbody>\n",
       "</table>\n"
      ],
      "text/latex": [
       "A data.frame: 6 × 7\n",
       "\\begin{tabular}{r|lllllll}\n",
       "  & row.names & Year & Month & Monthly\\_MSL & Linear\\_Trend & High\\_Conf. & Low\\_Conf.\\\\\n",
       "  & <chr> & <int> & <dbl> & <dbl> & <dbl> & <dbl> & <lgl>\\\\\n",
       "\\hline\n",
       "\t1 & 1977 & 11 & 6.919 & 6.923 & 6.961 & 6.886 & NA\\\\\n",
       "\t2 & 1977 & 12 & 6.875 & 6.924 & 6.961 & 6.886 & NA\\\\\n",
       "\t3 & 1978 &  1 & 6.829 & 6.924 & 6.962 & 6.886 & NA\\\\\n",
       "\t4 & 1978 &  2 & 6.887 & 6.924 & 6.962 & 6.887 & NA\\\\\n",
       "\t5 & 1978 &  3 & 6.921 & 6.925 & 6.962 & 6.887 & NA\\\\\n",
       "\t6 & 1978 &  4 & 7.011 & 6.925 & 6.962 & 6.888 & NA\\\\\n",
       "\\end{tabular}\n"
      ],
      "text/markdown": [
       "\n",
       "A data.frame: 6 × 7\n",
       "\n",
       "| <!--/--> | row.names &lt;chr&gt; | Year &lt;int&gt; | Month &lt;dbl&gt; | Monthly_MSL &lt;dbl&gt; | Linear_Trend &lt;dbl&gt; | High_Conf. &lt;dbl&gt; | Low_Conf. &lt;lgl&gt; |\n",
       "|---|---|---|---|---|---|---|---|\n",
       "| 1 | 1977 | 11 | 6.919 | 6.923 | 6.961 | 6.886 | NA |\n",
       "| 2 | 1977 | 12 | 6.875 | 6.924 | 6.961 | 6.886 | NA |\n",
       "| 3 | 1978 |  1 | 6.829 | 6.924 | 6.962 | 6.886 | NA |\n",
       "| 4 | 1978 |  2 | 6.887 | 6.924 | 6.962 | 6.887 | NA |\n",
       "| 5 | 1978 |  3 | 6.921 | 6.925 | 6.962 | 6.887 | NA |\n",
       "| 6 | 1978 |  4 | 7.011 | 6.925 | 6.962 | 6.888 | NA |\n",
       "\n"
      ],
      "text/plain": [
       "  row.names Year Month Monthly_MSL Linear_Trend High_Conf. Low_Conf.\n",
       "1 1977      11   6.919 6.923       6.961        6.886      NA       \n",
       "2 1977      12   6.875 6.924       6.961        6.886      NA       \n",
       "3 1978       1   6.829 6.924       6.962        6.886      NA       \n",
       "4 1978       2   6.887 6.924       6.962        6.887      NA       \n",
       "5 1978       3   6.921 6.925       6.962        6.887      NA       \n",
       "6 1978       4   7.011 6.925       6.962        6.888      NA       "
      ]
     },
     "metadata": {},
     "output_type": "display_data"
    }
   ],
   "source": [
    "tuvalu <- read.csv(\"Tuvalu_Sea_Level.csv\",\n",
    "               sep = \",\",\n",
    "               skip = 4,\n",
    "               header = TRUE,\n",
    "               row.names = NULL)\n",
    "\n",
    "head(tuvalu)\n"
   ]
  },
  {
   "cell_type": "code",
   "execution_count": 78,
   "id": "3a72f7d2-e61b-4ff8-aaea-7cc34336ceb1",
   "metadata": {},
   "outputs": [
    {
     "data": {
      "text/html": [
       "<style>\n",
       ".list-inline {list-style: none; margin:0; padding: 0}\n",
       ".list-inline>li {display: inline-block}\n",
       ".list-inline>li:not(:last-child)::after {content: \"\\00b7\"; padding: 0 .5ex}\n",
       "</style>\n",
       "<ol class=list-inline><li>'Monthly mean sea levels with the average seasonal cycle removed.'</li><li>'The values are in meters relative to the most recent Mean Sea Level datum established by CO-OPS.'</li><li>'Column values are the Year; Month; Monthly Mean; Relative Sea Level Trend Line; Higher 95% Confidence Interval; and Lower 95% Confidence Interval.'</li><li>'Product of NOAAs National Ocean Service / Center for Operational Oceanographic Products and Services (CO-OPS)'</li><li>''</li><li>'Year, Month, Monthly_MSL, Linear_Trend, High_Conf., Low_Conf.'</li><li>'1965,1,7.029,7.010,7.021,6.998,'</li><li>'1965,2,7.147,7.010,7.022,6.998,'</li><li>'1965,3,7.150,7.010,7.022,6.998,'</li><li>'1965,4,7.100,7.010,7.022,6.999,'</li></ol>\n"
      ],
      "text/latex": [
       "\\begin{enumerate*}\n",
       "\\item 'Monthly mean sea levels with the average seasonal cycle removed.'\n",
       "\\item 'The values are in meters relative to the most recent Mean Sea Level datum established by CO-OPS.'\n",
       "\\item 'Column values are the Year; Month; Monthly Mean; Relative Sea Level Trend Line; Higher 95\\% Confidence Interval; and Lower 95\\% Confidence Interval.'\n",
       "\\item 'Product of NOAAs National Ocean Service / Center for Operational Oceanographic Products and Services (CO-OPS)'\n",
       "\\item ''\n",
       "\\item 'Year, Month, Monthly\\_MSL, Linear\\_Trend, High\\_Conf., Low\\_Conf.'\n",
       "\\item '1965,1,7.029,7.010,7.021,6.998,'\n",
       "\\item '1965,2,7.147,7.010,7.022,6.998,'\n",
       "\\item '1965,3,7.150,7.010,7.022,6.998,'\n",
       "\\item '1965,4,7.100,7.010,7.022,6.999,'\n",
       "\\end{enumerate*}\n"
      ],
      "text/markdown": [
       "1. 'Monthly mean sea levels with the average seasonal cycle removed.'\n",
       "2. 'The values are in meters relative to the most recent Mean Sea Level datum established by CO-OPS.'\n",
       "3. 'Column values are the Year; Month; Monthly Mean; Relative Sea Level Trend Line; Higher 95% Confidence Interval; and Lower 95% Confidence Interval.'\n",
       "4. 'Product of NOAAs National Ocean Service / Center for Operational Oceanographic Products and Services (CO-OPS)'\n",
       "5. ''\n",
       "6. 'Year, Month, Monthly_MSL, Linear_Trend, High_Conf., Low_Conf.'\n",
       "7. '1965,1,7.029,7.010,7.021,6.998,'\n",
       "8. '1965,2,7.147,7.010,7.022,6.998,'\n",
       "9. '1965,3,7.150,7.010,7.022,6.998,'\n",
       "10. '1965,4,7.100,7.010,7.022,6.999,'\n",
       "\n",
       "\n"
      ],
      "text/plain": [
       " [1] \"Monthly mean sea levels with the average seasonal cycle removed.\"                                                                                  \n",
       " [2] \"The values are in meters relative to the most recent Mean Sea Level datum established by CO-OPS.\"                                                  \n",
       " [3] \"Column values are the Year; Month; Monthly Mean; Relative Sea Level Trend Line; Higher 95% Confidence Interval; and Lower 95% Confidence Interval.\"\n",
       " [4] \"Product of NOAAs National Ocean Service / Center for Operational Oceanographic Products and Services (CO-OPS)\"                                     \n",
       " [5] \"\"                                                                                                                                                  \n",
       " [6] \"Year, Month, Monthly_MSL, Linear_Trend, High_Conf., Low_Conf.\"                                                                                     \n",
       " [7] \"1965,1,7.029,7.010,7.021,6.998,\"                                                                                                                   \n",
       " [8] \"1965,2,7.147,7.010,7.022,6.998,\"                                                                                                                   \n",
       " [9] \"1965,3,7.150,7.010,7.022,6.998,\"                                                                                                                   \n",
       "[10] \"1965,4,7.100,7.010,7.022,6.999,\"                                                                                                                   "
      ]
     },
     "metadata": {},
     "output_type": "display_data"
    },
    {
     "data": {
      "text/html": [
       "<table class=\"dataframe\">\n",
       "<caption>A data.frame: 6 × 7</caption>\n",
       "<thead>\n",
       "\t<tr><th></th><th scope=col>row.names</th><th scope=col>Year</th><th scope=col>Month</th><th scope=col>Monthly_MSL</th><th scope=col>Linear_Trend</th><th scope=col>High_Conf.</th><th scope=col>Low_Conf.</th></tr>\n",
       "\t<tr><th></th><th scope=col>&lt;chr&gt;</th><th scope=col>&lt;int&gt;</th><th scope=col>&lt;dbl&gt;</th><th scope=col>&lt;dbl&gt;</th><th scope=col>&lt;dbl&gt;</th><th scope=col>&lt;dbl&gt;</th><th scope=col>&lt;lgl&gt;</th></tr>\n",
       "</thead>\n",
       "<tbody>\n",
       "\t<tr><th scope=row>1</th><td>1965</td><td>1</td><td>7.029</td><td>7.01</td><td>7.021</td><td>6.998</td><td>NA</td></tr>\n",
       "\t<tr><th scope=row>2</th><td>1965</td><td>2</td><td>7.147</td><td>7.01</td><td>7.022</td><td>6.998</td><td>NA</td></tr>\n",
       "\t<tr><th scope=row>3</th><td>1965</td><td>3</td><td>7.150</td><td>7.01</td><td>7.022</td><td>6.998</td><td>NA</td></tr>\n",
       "\t<tr><th scope=row>4</th><td>1965</td><td>4</td><td>7.100</td><td>7.01</td><td>7.022</td><td>6.999</td><td>NA</td></tr>\n",
       "\t<tr><th scope=row>5</th><td>1965</td><td>6</td><td>7.076</td><td>7.01</td><td>7.022</td><td>6.999</td><td>NA</td></tr>\n",
       "\t<tr><th scope=row>6</th><td>1965</td><td>7</td><td>7.067</td><td>7.01</td><td>7.022</td><td>6.999</td><td>NA</td></tr>\n",
       "</tbody>\n",
       "</table>\n"
      ],
      "text/latex": [
       "A data.frame: 6 × 7\n",
       "\\begin{tabular}{r|lllllll}\n",
       "  & row.names & Year & Month & Monthly\\_MSL & Linear\\_Trend & High\\_Conf. & Low\\_Conf.\\\\\n",
       "  & <chr> & <int> & <dbl> & <dbl> & <dbl> & <dbl> & <lgl>\\\\\n",
       "\\hline\n",
       "\t1 & 1965 & 1 & 7.029 & 7.01 & 7.021 & 6.998 & NA\\\\\n",
       "\t2 & 1965 & 2 & 7.147 & 7.01 & 7.022 & 6.998 & NA\\\\\n",
       "\t3 & 1965 & 3 & 7.150 & 7.01 & 7.022 & 6.998 & NA\\\\\n",
       "\t4 & 1965 & 4 & 7.100 & 7.01 & 7.022 & 6.999 & NA\\\\\n",
       "\t5 & 1965 & 6 & 7.076 & 7.01 & 7.022 & 6.999 & NA\\\\\n",
       "\t6 & 1965 & 7 & 7.067 & 7.01 & 7.022 & 6.999 & NA\\\\\n",
       "\\end{tabular}\n"
      ],
      "text/markdown": [
       "\n",
       "A data.frame: 6 × 7\n",
       "\n",
       "| <!--/--> | row.names &lt;chr&gt; | Year &lt;int&gt; | Month &lt;dbl&gt; | Monthly_MSL &lt;dbl&gt; | Linear_Trend &lt;dbl&gt; | High_Conf. &lt;dbl&gt; | Low_Conf. &lt;lgl&gt; |\n",
       "|---|---|---|---|---|---|---|---|\n",
       "| 1 | 1965 | 1 | 7.029 | 7.01 | 7.021 | 6.998 | NA |\n",
       "| 2 | 1965 | 2 | 7.147 | 7.01 | 7.022 | 6.998 | NA |\n",
       "| 3 | 1965 | 3 | 7.150 | 7.01 | 7.022 | 6.998 | NA |\n",
       "| 4 | 1965 | 4 | 7.100 | 7.01 | 7.022 | 6.999 | NA |\n",
       "| 5 | 1965 | 6 | 7.076 | 7.01 | 7.022 | 6.999 | NA |\n",
       "| 6 | 1965 | 7 | 7.067 | 7.01 | 7.022 | 6.999 | NA |\n",
       "\n"
      ],
      "text/plain": [
       "  row.names Year Month Monthly_MSL Linear_Trend High_Conf. Low_Conf.\n",
       "1 1965      1    7.029 7.01        7.021        6.998      NA       \n",
       "2 1965      2    7.147 7.01        7.022        6.998      NA       \n",
       "3 1965      3    7.150 7.01        7.022        6.998      NA       \n",
       "4 1965      4    7.100 7.01        7.022        6.999      NA       \n",
       "5 1965      6    7.076 7.01        7.022        6.999      NA       \n",
       "6 1965      7    7.067 7.01        7.022        6.999      NA       "
      ]
     },
     "metadata": {},
     "output_type": "display_data"
    }
   ],
   "source": [
    "readLines(\"japan_meantrend.csv\", n = 10)\n",
    "japan <- read.csv(\"japan_meantrend.csv\", \n",
    "                  sep = \",\", header = TRUE, skip = 4,\n",
    "                  fill = TRUE, row.names = NULL, check.names = FALSE)\n",
    "head(japan)"
   ]
  },
  {
   "cell_type": "code",
   "execution_count": 79,
   "id": "ea0cfaa6-d1ac-4b68-8bd8-e1643a867ea9",
   "metadata": {},
   "outputs": [
    {
     "data": {
      "text/html": [
       "<table class=\"dataframe\">\n",
       "<caption>A data.frame: 6 × 8</caption>\n",
       "<thead>\n",
       "\t<tr><th></th><th scope=col>row.names</th><th scope=col>Year</th><th scope=col>Month</th><th scope=col>Monthly_MSL</th><th scope=col>Linear_Trend</th><th scope=col>High_Conf.</th><th scope=col>Low_Conf.</th><th scope=col>Country</th></tr>\n",
       "\t<tr><th></th><th scope=col>&lt;chr&gt;</th><th scope=col>&lt;int&gt;</th><th scope=col>&lt;dbl&gt;</th><th scope=col>&lt;dbl&gt;</th><th scope=col>&lt;dbl&gt;</th><th scope=col>&lt;dbl&gt;</th><th scope=col>&lt;lgl&gt;</th><th scope=col>&lt;chr&gt;</th></tr>\n",
       "</thead>\n",
       "<tbody>\n",
       "\t<tr><th scope=row>1</th><td>1965</td><td>1</td><td>7.029</td><td>7.01</td><td>7.021</td><td>6.998</td><td>NA</td><td>Japan</td></tr>\n",
       "\t<tr><th scope=row>2</th><td>1965</td><td>2</td><td>7.147</td><td>7.01</td><td>7.022</td><td>6.998</td><td>NA</td><td>Japan</td></tr>\n",
       "\t<tr><th scope=row>3</th><td>1965</td><td>3</td><td>7.150</td><td>7.01</td><td>7.022</td><td>6.998</td><td>NA</td><td>Japan</td></tr>\n",
       "\t<tr><th scope=row>4</th><td>1965</td><td>4</td><td>7.100</td><td>7.01</td><td>7.022</td><td>6.999</td><td>NA</td><td>Japan</td></tr>\n",
       "\t<tr><th scope=row>5</th><td>1965</td><td>6</td><td>7.076</td><td>7.01</td><td>7.022</td><td>6.999</td><td>NA</td><td>Japan</td></tr>\n",
       "\t<tr><th scope=row>6</th><td>1965</td><td>7</td><td>7.067</td><td>7.01</td><td>7.022</td><td>6.999</td><td>NA</td><td>Japan</td></tr>\n",
       "</tbody>\n",
       "</table>\n"
      ],
      "text/latex": [
       "A data.frame: 6 × 8\n",
       "\\begin{tabular}{r|llllllll}\n",
       "  & row.names & Year & Month & Monthly\\_MSL & Linear\\_Trend & High\\_Conf. & Low\\_Conf. & Country\\\\\n",
       "  & <chr> & <int> & <dbl> & <dbl> & <dbl> & <dbl> & <lgl> & <chr>\\\\\n",
       "\\hline\n",
       "\t1 & 1965 & 1 & 7.029 & 7.01 & 7.021 & 6.998 & NA & Japan\\\\\n",
       "\t2 & 1965 & 2 & 7.147 & 7.01 & 7.022 & 6.998 & NA & Japan\\\\\n",
       "\t3 & 1965 & 3 & 7.150 & 7.01 & 7.022 & 6.998 & NA & Japan\\\\\n",
       "\t4 & 1965 & 4 & 7.100 & 7.01 & 7.022 & 6.999 & NA & Japan\\\\\n",
       "\t5 & 1965 & 6 & 7.076 & 7.01 & 7.022 & 6.999 & NA & Japan\\\\\n",
       "\t6 & 1965 & 7 & 7.067 & 7.01 & 7.022 & 6.999 & NA & Japan\\\\\n",
       "\\end{tabular}\n"
      ],
      "text/markdown": [
       "\n",
       "A data.frame: 6 × 8\n",
       "\n",
       "| <!--/--> | row.names &lt;chr&gt; | Year &lt;int&gt; | Month &lt;dbl&gt; | Monthly_MSL &lt;dbl&gt; | Linear_Trend &lt;dbl&gt; | High_Conf. &lt;dbl&gt; | Low_Conf. &lt;lgl&gt; | Country &lt;chr&gt; |\n",
       "|---|---|---|---|---|---|---|---|---|\n",
       "| 1 | 1965 | 1 | 7.029 | 7.01 | 7.021 | 6.998 | NA | Japan |\n",
       "| 2 | 1965 | 2 | 7.147 | 7.01 | 7.022 | 6.998 | NA | Japan |\n",
       "| 3 | 1965 | 3 | 7.150 | 7.01 | 7.022 | 6.998 | NA | Japan |\n",
       "| 4 | 1965 | 4 | 7.100 | 7.01 | 7.022 | 6.999 | NA | Japan |\n",
       "| 5 | 1965 | 6 | 7.076 | 7.01 | 7.022 | 6.999 | NA | Japan |\n",
       "| 6 | 1965 | 7 | 7.067 | 7.01 | 7.022 | 6.999 | NA | Japan |\n",
       "\n"
      ],
      "text/plain": [
       "  row.names Year Month Monthly_MSL Linear_Trend High_Conf. Low_Conf. Country\n",
       "1 1965      1    7.029 7.01        7.021        6.998      NA        Japan  \n",
       "2 1965      2    7.147 7.01        7.022        6.998      NA        Japan  \n",
       "3 1965      3    7.150 7.01        7.022        6.998      NA        Japan  \n",
       "4 1965      4    7.100 7.01        7.022        6.999      NA        Japan  \n",
       "5 1965      6    7.076 7.01        7.022        6.999      NA        Japan  \n",
       "6 1965      7    7.067 7.01        7.022        6.999      NA        Japan  "
      ]
     },
     "metadata": {},
     "output_type": "display_data"
    }
   ],
   "source": [
    "# Add a \"Country\" column to each dataset\n",
    "japan$Country <- \"Japan\"\n",
    "tuvalu$Country <- \"Tuvalu\"\n",
    "\n",
    "# Combine them into one dataset\n",
    "combined <- rbind(japan, tuvalu)\n",
    "\n",
    "# Check first rows\n",
    "head(combined)"
   ]
  },
  {
   "cell_type": "code",
   "execution_count": 80,
   "id": "447b1d2f-a94f-422f-a6d9-9b0e7ba3cb86",
   "metadata": {},
   "outputs": [
    {
     "data": {
      "text/html": [
       "<table class=\"dataframe\">\n",
       "<caption>A data.frame: 6 × 8</caption>\n",
       "<thead>\n",
       "\t<tr><th></th><th scope=col>row.names</th><th scope=col>Year</th><th scope=col>Month</th><th scope=col>Monthly_MSL</th><th scope=col>Linear_Trend</th><th scope=col>High_Conf.</th><th scope=col>Low_Conf.</th><th scope=col>Country</th></tr>\n",
       "\t<tr><th></th><th scope=col>&lt;chr&gt;</th><th scope=col>&lt;int&gt;</th><th scope=col>&lt;dbl&gt;</th><th scope=col>&lt;dbl&gt;</th><th scope=col>&lt;dbl&gt;</th><th scope=col>&lt;dbl&gt;</th><th scope=col>&lt;lgl&gt;</th><th scope=col>&lt;chr&gt;</th></tr>\n",
       "</thead>\n",
       "<tbody>\n",
       "\t<tr><th scope=row>1188</th><td>2022</td><td> 8</td><td>7.075</td><td>7.078</td><td>7.115</td><td>7.041</td><td>NA</td><td>Tuvalu</td></tr>\n",
       "\t<tr><th scope=row>1189</th><td>2022</td><td> 9</td><td>7.073</td><td>7.078</td><td>7.115</td><td>7.041</td><td>NA</td><td>Tuvalu</td></tr>\n",
       "\t<tr><th scope=row>1190</th><td>2022</td><td>10</td><td>7.100</td><td>7.079</td><td>7.116</td><td>7.042</td><td>NA</td><td>Tuvalu</td></tr>\n",
       "\t<tr><th scope=row>1191</th><td>2022</td><td>11</td><td>7.099</td><td>7.079</td><td>7.116</td><td>7.042</td><td>NA</td><td>Tuvalu</td></tr>\n",
       "\t<tr><th scope=row>1192</th><td>2022</td><td>12</td><td>7.104</td><td>7.079</td><td>7.116</td><td>7.042</td><td>NA</td><td>Tuvalu</td></tr>\n",
       "\t<tr><th scope=row>1193</th><td>2023</td><td> 1</td><td>7.117</td><td>7.080</td><td>7.117</td><td>7.042</td><td>NA</td><td>Tuvalu</td></tr>\n",
       "</tbody>\n",
       "</table>\n"
      ],
      "text/latex": [
       "A data.frame: 6 × 8\n",
       "\\begin{tabular}{r|llllllll}\n",
       "  & row.names & Year & Month & Monthly\\_MSL & Linear\\_Trend & High\\_Conf. & Low\\_Conf. & Country\\\\\n",
       "  & <chr> & <int> & <dbl> & <dbl> & <dbl> & <dbl> & <lgl> & <chr>\\\\\n",
       "\\hline\n",
       "\t1188 & 2022 &  8 & 7.075 & 7.078 & 7.115 & 7.041 & NA & Tuvalu\\\\\n",
       "\t1189 & 2022 &  9 & 7.073 & 7.078 & 7.115 & 7.041 & NA & Tuvalu\\\\\n",
       "\t1190 & 2022 & 10 & 7.100 & 7.079 & 7.116 & 7.042 & NA & Tuvalu\\\\\n",
       "\t1191 & 2022 & 11 & 7.099 & 7.079 & 7.116 & 7.042 & NA & Tuvalu\\\\\n",
       "\t1192 & 2022 & 12 & 7.104 & 7.079 & 7.116 & 7.042 & NA & Tuvalu\\\\\n",
       "\t1193 & 2023 &  1 & 7.117 & 7.080 & 7.117 & 7.042 & NA & Tuvalu\\\\\n",
       "\\end{tabular}\n"
      ],
      "text/markdown": [
       "\n",
       "A data.frame: 6 × 8\n",
       "\n",
       "| <!--/--> | row.names &lt;chr&gt; | Year &lt;int&gt; | Month &lt;dbl&gt; | Monthly_MSL &lt;dbl&gt; | Linear_Trend &lt;dbl&gt; | High_Conf. &lt;dbl&gt; | Low_Conf. &lt;lgl&gt; | Country &lt;chr&gt; |\n",
       "|---|---|---|---|---|---|---|---|---|\n",
       "| 1188 | 2022 |  8 | 7.075 | 7.078 | 7.115 | 7.041 | NA | Tuvalu |\n",
       "| 1189 | 2022 |  9 | 7.073 | 7.078 | 7.115 | 7.041 | NA | Tuvalu |\n",
       "| 1190 | 2022 | 10 | 7.100 | 7.079 | 7.116 | 7.042 | NA | Tuvalu |\n",
       "| 1191 | 2022 | 11 | 7.099 | 7.079 | 7.116 | 7.042 | NA | Tuvalu |\n",
       "| 1192 | 2022 | 12 | 7.104 | 7.079 | 7.116 | 7.042 | NA | Tuvalu |\n",
       "| 1193 | 2023 |  1 | 7.117 | 7.080 | 7.117 | 7.042 | NA | Tuvalu |\n",
       "\n"
      ],
      "text/plain": [
       "     row.names Year Month Monthly_MSL Linear_Trend High_Conf. Low_Conf. Country\n",
       "1188 2022       8   7.075 7.078       7.115        7.041      NA        Tuvalu \n",
       "1189 2022       9   7.073 7.078       7.115        7.041      NA        Tuvalu \n",
       "1190 2022      10   7.100 7.079       7.116        7.042      NA        Tuvalu \n",
       "1191 2022      11   7.099 7.079       7.116        7.042      NA        Tuvalu \n",
       "1192 2022      12   7.104 7.079       7.116        7.042      NA        Tuvalu \n",
       "1193 2023       1   7.117 7.080       7.117        7.042      NA        Tuvalu "
      ]
     },
     "metadata": {},
     "output_type": "display_data"
    },
    {
     "data": {
      "text/plain": [
       "\n",
       " Japan Tuvalu \n",
       "   672    521 "
      ]
     },
     "metadata": {},
     "output_type": "display_data"
    },
    {
     "data": {
      "text/html": [
       "<style>\n",
       ".list-inline {list-style: none; margin:0; padding: 0}\n",
       ".list-inline>li {display: inline-block}\n",
       ".list-inline>li:not(:last-child)::after {content: \"\\00b7\"; padding: 0 .5ex}\n",
       "</style>\n",
       "<ol class=list-inline><li>'Japan'</li><li>'Tuvalu'</li></ol>\n"
      ],
      "text/latex": [
       "\\begin{enumerate*}\n",
       "\\item 'Japan'\n",
       "\\item 'Tuvalu'\n",
       "\\end{enumerate*}\n"
      ],
      "text/markdown": [
       "1. 'Japan'\n",
       "2. 'Tuvalu'\n",
       "\n",
       "\n"
      ],
      "text/plain": [
       "[1] \"Japan\"  \"Tuvalu\""
      ]
     },
     "metadata": {},
     "output_type": "display_data"
    }
   ],
   "source": [
    "tail(combined)\n",
    "table(combined$Country)\n",
    "unique(combined$Country)"
   ]
  },
  {
   "cell_type": "code",
   "execution_count": 81,
   "id": "4d977589-6081-4db6-bbbd-521f30cb5724",
   "metadata": {},
   "outputs": [
    {
     "name": "stderr",
     "output_type": "stream",
     "text": [
      "\u001b[1m\u001b[22m`summarise()` has grouped output by 'Year'. You can override using the `.groups` argument.\n"
     ]
    }
   ],
   "source": [
    "library(dplyr)\n",
    "\n",
    "yearly <- (combined) %>%\n",
    "group_by(Year, Country) %>%\n",
    "summarise(Mean_MSL = mean(Monthly_MSL, na.arm = TRUE)) %>%\n",
    "ungroup()\n"
   ]
  },
  {
   "cell_type": "code",
   "execution_count": 82,
   "id": "0500da07-2809-4c23-b392-3de612690d4d",
   "metadata": {},
   "outputs": [
    {
     "data": {
      "text/html": [
       "<table class=\"dataframe\">\n",
       "<caption>A data.frame: 6 × 8</caption>\n",
       "<thead>\n",
       "\t<tr><th></th><th scope=col>row.names</th><th scope=col>Year</th><th scope=col>Month</th><th scope=col>Monthly_MSL</th><th scope=col>Linear_Trend</th><th scope=col>High_Conf.</th><th scope=col>Low_Conf.</th><th scope=col>Country</th></tr>\n",
       "\t<tr><th></th><th scope=col>&lt;chr&gt;</th><th scope=col>&lt;int&gt;</th><th scope=col>&lt;dbl&gt;</th><th scope=col>&lt;dbl&gt;</th><th scope=col>&lt;dbl&gt;</th><th scope=col>&lt;dbl&gt;</th><th scope=col>&lt;lgl&gt;</th><th scope=col>&lt;chr&gt;</th></tr>\n",
       "</thead>\n",
       "<tbody>\n",
       "\t<tr><th scope=row>1</th><td>1965</td><td>1</td><td>7.029</td><td>7.01</td><td>7.021</td><td>6.998</td><td>NA</td><td>Japan</td></tr>\n",
       "\t<tr><th scope=row>2</th><td>1965</td><td>2</td><td>7.147</td><td>7.01</td><td>7.022</td><td>6.998</td><td>NA</td><td>Japan</td></tr>\n",
       "\t<tr><th scope=row>3</th><td>1965</td><td>3</td><td>7.150</td><td>7.01</td><td>7.022</td><td>6.998</td><td>NA</td><td>Japan</td></tr>\n",
       "\t<tr><th scope=row>4</th><td>1965</td><td>4</td><td>7.100</td><td>7.01</td><td>7.022</td><td>6.999</td><td>NA</td><td>Japan</td></tr>\n",
       "\t<tr><th scope=row>5</th><td>1965</td><td>6</td><td>7.076</td><td>7.01</td><td>7.022</td><td>6.999</td><td>NA</td><td>Japan</td></tr>\n",
       "\t<tr><th scope=row>6</th><td>1965</td><td>7</td><td>7.067</td><td>7.01</td><td>7.022</td><td>6.999</td><td>NA</td><td>Japan</td></tr>\n",
       "</tbody>\n",
       "</table>\n"
      ],
      "text/latex": [
       "A data.frame: 6 × 8\n",
       "\\begin{tabular}{r|llllllll}\n",
       "  & row.names & Year & Month & Monthly\\_MSL & Linear\\_Trend & High\\_Conf. & Low\\_Conf. & Country\\\\\n",
       "  & <chr> & <int> & <dbl> & <dbl> & <dbl> & <dbl> & <lgl> & <chr>\\\\\n",
       "\\hline\n",
       "\t1 & 1965 & 1 & 7.029 & 7.01 & 7.021 & 6.998 & NA & Japan\\\\\n",
       "\t2 & 1965 & 2 & 7.147 & 7.01 & 7.022 & 6.998 & NA & Japan\\\\\n",
       "\t3 & 1965 & 3 & 7.150 & 7.01 & 7.022 & 6.998 & NA & Japan\\\\\n",
       "\t4 & 1965 & 4 & 7.100 & 7.01 & 7.022 & 6.999 & NA & Japan\\\\\n",
       "\t5 & 1965 & 6 & 7.076 & 7.01 & 7.022 & 6.999 & NA & Japan\\\\\n",
       "\t6 & 1965 & 7 & 7.067 & 7.01 & 7.022 & 6.999 & NA & Japan\\\\\n",
       "\\end{tabular}\n"
      ],
      "text/markdown": [
       "\n",
       "A data.frame: 6 × 8\n",
       "\n",
       "| <!--/--> | row.names &lt;chr&gt; | Year &lt;int&gt; | Month &lt;dbl&gt; | Monthly_MSL &lt;dbl&gt; | Linear_Trend &lt;dbl&gt; | High_Conf. &lt;dbl&gt; | Low_Conf. &lt;lgl&gt; | Country &lt;chr&gt; |\n",
       "|---|---|---|---|---|---|---|---|---|\n",
       "| 1 | 1965 | 1 | 7.029 | 7.01 | 7.021 | 6.998 | NA | Japan |\n",
       "| 2 | 1965 | 2 | 7.147 | 7.01 | 7.022 | 6.998 | NA | Japan |\n",
       "| 3 | 1965 | 3 | 7.150 | 7.01 | 7.022 | 6.998 | NA | Japan |\n",
       "| 4 | 1965 | 4 | 7.100 | 7.01 | 7.022 | 6.999 | NA | Japan |\n",
       "| 5 | 1965 | 6 | 7.076 | 7.01 | 7.022 | 6.999 | NA | Japan |\n",
       "| 6 | 1965 | 7 | 7.067 | 7.01 | 7.022 | 6.999 | NA | Japan |\n",
       "\n"
      ],
      "text/plain": [
       "  row.names Year Month Monthly_MSL Linear_Trend High_Conf. Low_Conf. Country\n",
       "1 1965      1    7.029 7.01        7.021        6.998      NA        Japan  \n",
       "2 1965      2    7.147 7.01        7.022        6.998      NA        Japan  \n",
       "3 1965      3    7.150 7.01        7.022        6.998      NA        Japan  \n",
       "4 1965      4    7.100 7.01        7.022        6.999      NA        Japan  \n",
       "5 1965      6    7.076 7.01        7.022        6.999      NA        Japan  \n",
       "6 1965      7    7.067 7.01        7.022        6.999      NA        Japan  "
      ]
     },
     "metadata": {},
     "output_type": "display_data"
    }
   ],
   "source": [
    "head(combined)"
   ]
  },
  {
   "cell_type": "code",
   "execution_count": 83,
   "id": "aacd34df-4c24-497d-b108-796a98c468aa",
   "metadata": {},
   "outputs": [
    {
     "data": {
      "text/html": [
       "<table class=\"dataframe\">\n",
       "<caption>A tibble: 6 × 3</caption>\n",
       "<thead>\n",
       "\t<tr><th scope=col>Year</th><th scope=col>Country</th><th scope=col>Mean_MSL</th></tr>\n",
       "\t<tr><th scope=col>&lt;int&gt;</th><th scope=col>&lt;chr&gt;</th><th scope=col>&lt;dbl&gt;</th></tr>\n",
       "</thead>\n",
       "<tbody>\n",
       "\t<tr><td>1</td><td>Japan </td><td>7.048143</td></tr>\n",
       "\t<tr><td>1</td><td>Tuvalu</td><td>7.000000</td></tr>\n",
       "\t<tr><td>2</td><td>Japan </td><td>7.048982</td></tr>\n",
       "\t<tr><td>2</td><td>Tuvalu</td><td>7.000140</td></tr>\n",
       "\t<tr><td>3</td><td>Japan </td><td>7.049073</td></tr>\n",
       "\t<tr><td>3</td><td>Tuvalu</td><td>7.000186</td></tr>\n",
       "</tbody>\n",
       "</table>\n"
      ],
      "text/latex": [
       "A tibble: 6 × 3\n",
       "\\begin{tabular}{lll}\n",
       " Year & Country & Mean\\_MSL\\\\\n",
       " <int> & <chr> & <dbl>\\\\\n",
       "\\hline\n",
       "\t 1 & Japan  & 7.048143\\\\\n",
       "\t 1 & Tuvalu & 7.000000\\\\\n",
       "\t 2 & Japan  & 7.048982\\\\\n",
       "\t 2 & Tuvalu & 7.000140\\\\\n",
       "\t 3 & Japan  & 7.049073\\\\\n",
       "\t 3 & Tuvalu & 7.000186\\\\\n",
       "\\end{tabular}\n"
      ],
      "text/markdown": [
       "\n",
       "A tibble: 6 × 3\n",
       "\n",
       "| Year &lt;int&gt; | Country &lt;chr&gt; | Mean_MSL &lt;dbl&gt; |\n",
       "|---|---|---|\n",
       "| 1 | Japan  | 7.048143 |\n",
       "| 1 | Tuvalu | 7.000000 |\n",
       "| 2 | Japan  | 7.048982 |\n",
       "| 2 | Tuvalu | 7.000140 |\n",
       "| 3 | Japan  | 7.049073 |\n",
       "| 3 | Tuvalu | 7.000186 |\n",
       "\n"
      ],
      "text/plain": [
       "  Year Country Mean_MSL\n",
       "1 1    Japan   7.048143\n",
       "2 1    Tuvalu  7.000000\n",
       "3 2    Japan   7.048982\n",
       "4 2    Tuvalu  7.000140\n",
       "5 3    Japan   7.049073\n",
       "6 3    Tuvalu  7.000186"
      ]
     },
     "metadata": {},
     "output_type": "display_data"
    }
   ],
   "source": [
    "head(yearly)"
   ]
  },
  {
   "cell_type": "code",
   "execution_count": 84,
   "id": "2b21f461-e82e-4a1b-b162-0b6a79ec20c6",
   "metadata": {},
   "outputs": [
    {
     "name": "stderr",
     "output_type": "stream",
     "text": [
      "Warning message:\n",
      "\"package 'tidyr' is in use and will not be installed\"\n"
     ]
    }
   ],
   "source": [
    "install.packages(\"tidyr\")\n",
    "library(tidyr)"
   ]
  },
  {
   "cell_type": "code",
   "execution_count": 85,
   "id": "c5f32ae7-8f7b-4771-9e62-c731b4e6ac69",
   "metadata": {},
   "outputs": [],
   "source": [
    "#Converts matrix to wide format by year.\n",
    "library(tidyr)\n",
    "wide <- yearly %>%\n",
    "pivot_wider(names_from = Country, values_from = Mean_MSL)\n"
   ]
  },
  {
   "cell_type": "code",
   "execution_count": 87,
   "id": "f7da5a72-7b9b-42ec-8313-03e1ee9eff27",
   "metadata": {},
   "outputs": [
    {
     "data": {
      "text/html": [
       "<table class=\"dataframe\">\n",
       "<caption>A tibble: 6 × 3</caption>\n",
       "<thead>\n",
       "\t<tr><th scope=col>Year</th><th scope=col>Japan</th><th scope=col>Tuvalu</th></tr>\n",
       "\t<tr><th scope=col>&lt;int&gt;</th><th scope=col>&lt;dbl&gt;</th><th scope=col>&lt;dbl&gt;</th></tr>\n",
       "</thead>\n",
       "<tbody>\n",
       "\t<tr><td>1</td><td>7.048143</td><td>7.000000</td></tr>\n",
       "\t<tr><td>2</td><td>7.048982</td><td>7.000140</td></tr>\n",
       "\t<tr><td>3</td><td>7.049073</td><td>7.000186</td></tr>\n",
       "\t<tr><td>4</td><td>7.048696</td><td>      NA</td></tr>\n",
       "\t<tr><td>5</td><td>7.049527</td><td>6.997600</td></tr>\n",
       "\t<tr><td>6</td><td>7.047821</td><td>6.998465</td></tr>\n",
       "</tbody>\n",
       "</table>\n"
      ],
      "text/latex": [
       "A tibble: 6 × 3\n",
       "\\begin{tabular}{lll}\n",
       " Year & Japan & Tuvalu\\\\\n",
       " <int> & <dbl> & <dbl>\\\\\n",
       "\\hline\n",
       "\t 1 & 7.048143 & 7.000000\\\\\n",
       "\t 2 & 7.048982 & 7.000140\\\\\n",
       "\t 3 & 7.049073 & 7.000186\\\\\n",
       "\t 4 & 7.048696 &       NA\\\\\n",
       "\t 5 & 7.049527 & 6.997600\\\\\n",
       "\t 6 & 7.047821 & 6.998465\\\\\n",
       "\\end{tabular}\n"
      ],
      "text/markdown": [
       "\n",
       "A tibble: 6 × 3\n",
       "\n",
       "| Year &lt;int&gt; | Japan &lt;dbl&gt; | Tuvalu &lt;dbl&gt; |\n",
       "|---|---|---|\n",
       "| 1 | 7.048143 | 7.000000 |\n",
       "| 2 | 7.048982 | 7.000140 |\n",
       "| 3 | 7.049073 | 7.000186 |\n",
       "| 4 | 7.048696 |       NA |\n",
       "| 5 | 7.049527 | 6.997600 |\n",
       "| 6 | 7.047821 | 6.998465 |\n",
       "\n"
      ],
      "text/plain": [
       "  Year Japan    Tuvalu  \n",
       "1 1    7.048143 7.000000\n",
       "2 2    7.048982 7.000140\n",
       "3 3    7.049073 7.000186\n",
       "4 4    7.048696       NA\n",
       "5 5    7.049527 6.997600\n",
       "6 6    7.047821 6.998465"
      ]
     },
     "metadata": {},
     "output_type": "display_data"
    }
   ],
   "source": [
    "head(wide)"
   ]
  },
  {
   "cell_type": "code",
   "execution_count": 89,
   "id": "ccf00d2e-fd85-45bf-a728-3c61d8bc642a",
   "metadata": {},
   "outputs": [],
   "source": [
    "\n",
    "cor_matrix <- cor(wide[, -1], use = \"pairwise.complete.obs\")"
   ]
  },
  {
   "cell_type": "code",
   "execution_count": 90,
   "id": "de565ccf-1128-4780-b90e-6701774a84c0",
   "metadata": {},
   "outputs": [
    {
     "data": {
      "text/html": [
       "<table class=\"dataframe\">\n",
       "<caption>A matrix: 2 × 2 of type dbl</caption>\n",
       "<thead>\n",
       "\t<tr><th></th><th scope=col>Japan</th><th scope=col>Tuvalu</th></tr>\n",
       "</thead>\n",
       "<tbody>\n",
       "\t<tr><th scope=row>Japan</th><td>1.000000</td><td>0.284944</td></tr>\n",
       "\t<tr><th scope=row>Tuvalu</th><td>0.284944</td><td>1.000000</td></tr>\n",
       "</tbody>\n",
       "</table>\n"
      ],
      "text/latex": [
       "A matrix: 2 × 2 of type dbl\n",
       "\\begin{tabular}{r|ll}\n",
       "  & Japan & Tuvalu\\\\\n",
       "\\hline\n",
       "\tJapan & 1.000000 & 0.284944\\\\\n",
       "\tTuvalu & 0.284944 & 1.000000\\\\\n",
       "\\end{tabular}\n"
      ],
      "text/markdown": [
       "\n",
       "A matrix: 2 × 2 of type dbl\n",
       "\n",
       "| <!--/--> | Japan | Tuvalu |\n",
       "|---|---|---|\n",
       "| Japan | 1.000000 | 0.284944 |\n",
       "| Tuvalu | 0.284944 | 1.000000 |\n",
       "\n"
      ],
      "text/plain": [
       "       Japan    Tuvalu  \n",
       "Japan  1.000000 0.284944\n",
       "Tuvalu 0.284944 1.000000"
      ]
     },
     "metadata": {},
     "output_type": "display_data"
    }
   ],
   "source": [
    "cor_matrix"
   ]
  },
  {
   "cell_type": "code",
   "execution_count": 91,
   "id": "0cb7e966-e2f2-445b-a53e-6a9698ca8e9f",
   "metadata": {},
   "outputs": [
    {
     "ename": "ERROR",
     "evalue": "Error: object 'reshape2' not found\n",
     "output_type": "error",
     "traceback": [
      "Error: object 'reshape2' not found\nTraceback:\n",
      "1. .handleSimpleError(function (cnd) \n . {\n .     watcher$capture_plot_and_output()\n .     cnd <- sanitize_call(cnd)\n .     watcher$push(cnd)\n .     switch(on_error, continue = invokeRestart(\"eval_continue\"), \n .         stop = invokeRestart(\"eval_stop\"), error = NULL)\n . }, \"object 'reshape2' not found\", base::quote(eval(expr, envir)))"
     ]
    }
   ],
   "source": [
    "#Package is deprecated\n",
    "install.packages(reshape2)\n"
   ]
  },
  {
   "cell_type": "code",
   "execution_count": 92,
   "id": "3c994462-0e87-4242-bcea-ea35d66caab6",
   "metadata": {},
   "outputs": [
    {
     "data": {
      "image/png": "[encoded data removed]",
      "text/plain": [
       "plot without title"
      ]
     },
     "metadata": {
      "image/png": {
       "height": 420,
       "width": 420
      }
     },
     "output_type": "display_data"
    }
   ],
   "source": [
    "#\n",
    "library(tidyr)\n",
    "library(dplyr)\n",
    "library(ggplot2)\n",
    "\n",
    "cor_df <- as.data.frame(cor_matrix) %>%\n",
    "tibble::rownames_to_column(\"Var1\") %>%\n",
    "pivot_longer(-Var1, names_to = \"Var2\", values_to = \"value\")\n",
    "\n",
    "#Create heatmap\n",
    "ggplot(cor_df, aes(x = Var1, y = Var2, fill = value)) +\n",
    "geom_tile() +\n",
    "scale_fill_gradient2(low = \"blue\", high = \"red\", mid = \"white\", midpoint = 0) + \n",
    "theme_minimal()"
   ]
  },
  {
   "cell_type": "code",
   "execution_count": 93,
   "id": "e1f4973c-efb2-4e6f-8c62-72c3971c9332",
   "metadata": {},
   "outputs": [],
   "source": [
    "library(dplyr)\n",
    "tuvalu <- yearly %>% filter(Country == \"Tuvalu\")"
   ]
  },
  {
   "cell_type": "code",
   "execution_count": 104,
   "id": "26baa179-e472-4b5f-8e97-a310d316e649",
   "metadata": {},
   "outputs": [
    {
     "data": {
      "image/png": "[encoded data removed]",
      "text/plain": [
       "plot without title"
      ]
     },
     "metadata": {
      "image/png": {
       "height": 420,
       "width": 420
      }
     },
     "output_type": "display_data"
    }
   ],
   "source": [
    "# Histogram plot with Normal Curve\n",
    "library(tidyr)\n",
    "library(dplyr)\n",
    "library(ggplot2)\n",
    "\n",
    "tuvalu_df <- combined %>%\n",
    " filter(Country == \"Tuvalu\") %>%\n",
    " select(Monthly_MSL) %>%\n",
    " tidyr::drop_na()\n",
    "\n",
    "mu <- mean(tuvalu_df$Monthly_MSL)\n",
    "sd_ <- sd(tuvalu_df$Monthly_MSL)\n",
    "\n",
    "# Histogram and normal curve\n",
    "ggplot(tuvalu_df, aes(x = Monthly_MSL)) +\n",
    "  geom_histogram(aes(y = ..density..), bins = 40, color = \"white\", fill = \"skyblue\") +\n",
    "  stat_function(fun = dnorm, args = list(mean = mu, sd = sd_), linewidth = 1) +\n",
    "  labs(x = \"Monthly Mean Sea Level (m)\", y = \"Density\",\n",
    "       title = \"Tuvalu: Monthly MSL with Normal Curve\") +\n",
    "  theme_minimal()"
   ]
  },
  {
   "cell_type": "code",
   "execution_count": 106,
   "id": "41481154-1293-453e-90aa-da8f01b94007",
   "metadata": {},
   "outputs": [
    {
     "data": {
      "text/html": [
       "6.99904615384615"
      ],
      "text/latex": [
       "6.99904615384615"
      ],
      "text/markdown": [
       "6.99904615384615"
      ],
      "text/plain": [
       "[1] 6.999046"
      ]
     },
     "metadata": {},
     "output_type": "display_data"
    },
    {
     "data": {
      "text/html": [
       "0.0428243914324097"
      ],
      "text/latex": [
       "0.0428243914324097"
      ],
      "text/markdown": [
       "0.0428243914324097"
      ],
      "text/plain": [
       "[1] 0.04282439"
      ]
     },
     "metadata": {},
     "output_type": "display_data"
    },
    {
     "data": {
      "text/html": [
       "0.00253823093962681"
      ],
      "text/latex": [
       "0.00253823093962681"
      ],
      "text/markdown": [
       "0.00253823093962681"
      ],
      "text/plain": [
       "[1] 0.002538231"
      ]
     },
     "metadata": {},
     "output_type": "display_data"
    }
   ],
   "source": [
    "#Calculating Mean, Standard Deviation,and Probability estimates for the Sea Level of Tuvalu\n",
    "mu <- mean(tuvalu_df$Monthly_MSL)\n",
    "sd_ <-sd(tuvalu_df$Monthly_MSL)\n",
    "\n",
    "mu\n",
    "sd_\n",
    "\n",
    "#Probability of Sea Level > 120mm above mean\n",
    "threshold <- mu + 0.120\n",
    "p_gt_120mm <- pnorm(threshold, mean = mu, sd = sd_, lower.tail = FALSE)\n",
    "\n",
    "p_gt_120mm"
   ]
  },
  {
   "cell_type": "code",
   "execution_count": 108,
   "id": "6ac9fca2-83d8-46ca-823e-62832673d255",
   "metadata": {},
   "outputs": [
    {
     "data": {
      "text/plain": [
       "\n",
       "Call:\n",
       "lm(formula = Monthly_MSL ~ Year, data = combined %>% filter(Country == \n",
       "    \"Tuvalu\"))\n",
       "\n",
       "Residuals:\n",
       "      Min        1Q    Median        3Q       Max \n",
       "-0.075969 -0.032506 -0.006543  0.036074  0.080876 \n",
       "\n",
       "Coefficients:\n",
       "              Estimate Std. Error t value Pr(>|t|)    \n",
       "(Intercept)  7.0001371  0.0039870 1755.75   <2e-16 ***\n",
       "Year        -0.0001678  0.0005408   -0.31    0.756    \n",
       "---\n",
       "Signif. codes:  0 '***' 0.001 '**' 0.01 '*' 0.05 '.' 0.1 ' ' 1\n",
       "\n",
       "Residual standard error: 0.04286 on 518 degrees of freedom\n",
       "  (1 observation deleted due to missingness)\n",
       "Multiple R-squared:  0.0001858,\tAdjusted R-squared:  -0.001744 \n",
       "F-statistic: 0.09627 on 1 and 518 DF,  p-value: 0.7565\n"
      ]
     },
     "metadata": {},
     "output_type": "display_data"
    },
    {
     "data": {
      "text/plain": [
       "\n",
       "Call:\n",
       "lm(formula = Monthly_MSL ~ Year, data = combined %>% filter(Country == \n",
       "    \"Japan\"))\n",
       "\n",
       "Residuals:\n",
       "      Min        1Q    Median        3Q       Max \n",
       "-0.038811 -0.018486  0.000104  0.018963  0.037076 \n",
       "\n",
       "Coefficients:\n",
       "             Estimate Std. Error  t value Pr(>|t|)    \n",
       "(Intercept) 7.048e+00  1.797e-03 3921.381   <2e-16 ***\n",
       "Year        5.653e-05  2.436e-04    0.232    0.817    \n",
       "---\n",
       "Signif. codes:  0 '***' 0.001 '**' 0.01 '*' 0.05 '.' 0.1 ' ' 1\n",
       "\n",
       "Residual standard error: 0.02176 on 670 degrees of freedom\n",
       "Multiple R-squared:  8.038e-05,\tAdjusted R-squared:  -0.001412 \n",
       "F-statistic: 0.05386 on 1 and 670 DF,  p-value: 0.8166\n"
      ]
     },
     "metadata": {},
     "output_type": "display_data"
    },
    {
     "data": {
      "text/html": [
       "<table class=\"dataframe\">\n",
       "<caption>A matrix: 1 × 2 of type dbl</caption>\n",
       "<thead>\n",
       "\t<tr><th></th><th scope=col>2.5 %</th><th scope=col>97.5 %</th></tr>\n",
       "</thead>\n",
       "<tbody>\n",
       "\t<tr><th scope=row>Year</th><td>-0.00123018</td><td>0.0008946036</td></tr>\n",
       "</tbody>\n",
       "</table>\n"
      ],
      "text/latex": [
       "A matrix: 1 × 2 of type dbl\n",
       "\\begin{tabular}{r|ll}\n",
       "  & 2.5 \\% & 97.5 \\%\\\\\n",
       "\\hline\n",
       "\tYear & -0.00123018 & 0.0008946036\\\\\n",
       "\\end{tabular}\n"
      ],
      "text/markdown": [
       "\n",
       "A matrix: 1 × 2 of type dbl\n",
       "\n",
       "| <!--/--> | 2.5 % | 97.5 % |\n",
       "|---|---|---|\n",
       "| Year | -0.00123018 | 0.0008946036 |\n",
       "\n"
      ],
      "text/plain": [
       "     2.5 %       97.5 %      \n",
       "Year -0.00123018 0.0008946036"
      ]
     },
     "metadata": {},
     "output_type": "display_data"
    },
    {
     "data": {
      "text/html": [
       "<table class=\"dataframe\">\n",
       "<caption>A matrix: 1 × 2 of type dbl</caption>\n",
       "<thead>\n",
       "\t<tr><th></th><th scope=col>2.5 %</th><th scope=col>97.5 %</th></tr>\n",
       "</thead>\n",
       "<tbody>\n",
       "\t<tr><th scope=row>Year</th><td>-0.0004217288</td><td>0.0005347813</td></tr>\n",
       "</tbody>\n",
       "</table>\n"
      ],
      "text/latex": [
       "A matrix: 1 × 2 of type dbl\n",
       "\\begin{tabular}{r|ll}\n",
       "  & 2.5 \\% & 97.5 \\%\\\\\n",
       "\\hline\n",
       "\tYear & -0.0004217288 & 0.0005347813\\\\\n",
       "\\end{tabular}\n"
      ],
      "text/markdown": [
       "\n",
       "A matrix: 1 × 2 of type dbl\n",
       "\n",
       "| <!--/--> | 2.5 % | 97.5 % |\n",
       "|---|---|---|\n",
       "| Year | -0.0004217288 | 0.0005347813 |\n",
       "\n"
      ],
      "text/plain": [
       "     2.5 %         97.5 %      \n",
       "Year -0.0004217288 0.0005347813"
      ]
     },
     "metadata": {},
     "output_type": "display_data"
    },
    {
     "ename": "ERROR",
     "evalue": "Error in t.test.default(coef(lm_tuvalu)[\"Year\"]): not enough 'x' observations\n",
     "output_type": "error",
     "traceback": [
      "Error in t.test.default(coef(lm_tuvalu)[\"Year\"]): not enough 'x' observations\nTraceback:\n",
      "1. t.test.default(coef(lm_tuvalu)[\"Year\"])",
      "2. stop(\"not enough 'x' observations\")",
      "3. .handleSimpleError(function (cnd) \n . {\n .     watcher$capture_plot_and_output()\n .     cnd <- sanitize_call(cnd)\n .     watcher$push(cnd)\n .     switch(on_error, continue = invokeRestart(\"eval_continue\"), \n .         stop = invokeRestart(\"eval_stop\"), error = NULL)\n . }, \"not enough 'x' observations\", base::quote(t.test.default(coef(lm_tuvalu)[\"Year\"])))"
     ]
    }
   ],
   "source": [
    "# Fit linear models: \n",
    "lm_tuvalu <- lm(Monthly_MSL ~ Year, data = combined %>% filter(Country == \"Tuvalu\"))\n",
    "lm_japan <- lm(Monthly_MSL ~ Year, data = combined %>% filter(Country == \"Japan\"))\n",
    "\n",
    "#Shows regression summaries for the given countries(slope, intercept, p-value, Year coefficient)\n",
    "summary(lm_tuvalu)\n",
    "summary(lm_japan)\n",
    "\n",
    "#Provides the 95% confidence interval for slope\n",
    "confint(lm_tuvalu, \"Year\", level = 0.95)\n",
    "confint(lm_japan, \"Year\", level = 0.95)\n",
    "\n",
    "#Tests if slope differs from 0 (Summary() already provides the p-value result\n",
    "t.test(coef(lm_tuvalu)[\"Year\"])\n",
    "t.test(coef(lm_japan)[\"Year\"])\n",
    "\n",
    "#Data shows that it is not statistically significant\n"
   ]
  },
  {
   "cell_type": "code",
   "execution_count": 112,
   "id": "45bb81e7-9d85-4d6f-baac-802adbe45e17",
   "metadata": {},
   "outputs": [
    {
     "data": {
      "text/html": [
       "<table class=\"dataframe\">\n",
       "<caption>A tibble: 4 × 7</caption>\n",
       "<thead>\n",
       "\t<tr><th scope=col>Country</th><th scope=col>Threshold</th><th scope=col>n_years</th><th scope=col>successes</th><th scope=col>post_mean</th><th scope=col>post_lo</th><th scope=col>post_hi</th></tr>\n",
       "\t<tr><th scope=col>&lt;chr&gt;</th><th scope=col>&lt;chr&gt;</th><th scope=col>&lt;int&gt;</th><th scope=col>&lt;int&gt;</th><th scope=col>&lt;dbl&gt;</th><th scope=col>&lt;dbl&gt;</th><th scope=col>&lt;dbl&gt;</th></tr>\n",
       "</thead>\n",
       "<tbody>\n",
       "\t<tr><td>Tuvalu</td><td>110 mm</td><td>12</td><td>0</td><td>0.1250447</td><td>0.03604144</td><td>0.2561233</td></tr>\n",
       "\t<tr><td>Tuvalu</td><td>115 mm</td><td>12</td><td>0</td><td>0.1245462</td><td>0.03587654</td><td>0.2553160</td></tr>\n",
       "\t<tr><td>Japan </td><td>110 mm</td><td>12</td><td>0</td><td>0.1250745</td><td>0.03655444</td><td>0.2547083</td></tr>\n",
       "\t<tr><td>Japan </td><td>115 mm</td><td>12</td><td>0</td><td>0.1250024</td><td>0.03653861</td><td>0.2584143</td></tr>\n",
       "</tbody>\n",
       "</table>\n"
      ],
      "text/latex": [
       "A tibble: 4 × 7\n",
       "\\begin{tabular}{lllllll}\n",
       " Country & Threshold & n\\_years & successes & post\\_mean & post\\_lo & post\\_hi\\\\\n",
       " <chr> & <chr> & <int> & <int> & <dbl> & <dbl> & <dbl>\\\\\n",
       "\\hline\n",
       "\t Tuvalu & 110 mm & 12 & 0 & 0.1250447 & 0.03604144 & 0.2561233\\\\\n",
       "\t Tuvalu & 115 mm & 12 & 0 & 0.1245462 & 0.03587654 & 0.2553160\\\\\n",
       "\t Japan  & 110 mm & 12 & 0 & 0.1250745 & 0.03655444 & 0.2547083\\\\\n",
       "\t Japan  & 115 mm & 12 & 0 & 0.1250024 & 0.03653861 & 0.2584143\\\\\n",
       "\\end{tabular}\n"
      ],
      "text/markdown": [
       "\n",
       "A tibble: 4 × 7\n",
       "\n",
       "| Country &lt;chr&gt; | Threshold &lt;chr&gt; | n_years &lt;int&gt; | successes &lt;int&gt; | post_mean &lt;dbl&gt; | post_lo &lt;dbl&gt; | post_hi &lt;dbl&gt; |\n",
       "|---|---|---|---|---|---|---|\n",
       "| Tuvalu | 110 mm | 12 | 0 | 0.1250447 | 0.03604144 | 0.2561233 |\n",
       "| Tuvalu | 115 mm | 12 | 0 | 0.1245462 | 0.03587654 | 0.2553160 |\n",
       "| Japan  | 110 mm | 12 | 0 | 0.1250745 | 0.03655444 | 0.2547083 |\n",
       "| Japan  | 115 mm | 12 | 0 | 0.1250024 | 0.03653861 | 0.2584143 |\n",
       "\n"
      ],
      "text/plain": [
       "  Country Threshold n_years successes post_mean post_lo    post_hi  \n",
       "1 Tuvalu  110 mm    12      0         0.1250447 0.03604144 0.2561233\n",
       "2 Tuvalu  115 mm    12      0         0.1245462 0.03587654 0.2553160\n",
       "3 Japan   110 mm    12      0         0.1250745 0.03655444 0.2547083\n",
       "4 Japan   115 mm    12      0         0.1250024 0.03653861 0.2584143"
      ]
     },
     "metadata": {},
     "output_type": "display_data"
    }
   ],
   "source": [
    "library(dplyr)\n",
    "library(ggplot2)\n",
    "library(tibble)\n",
    "\n",
    "yearly <- combined %>%\n",
    "  group_by(Country, Year) %>%\n",
    "  summarise(Mean_MSL = mean(Monthly_MSL, na.rm = TRUE), .groups = \"drop\")\n",
    "\n",
    "# Counts exceedances above country baseline by threshold T\n",
    "count_exceed <- function(df_country, T) {\n",
    "    mu <- mean(df_country$Mean_MSL, na.rm = TRUE)\n",
    "    dev <- df_country$Mean_MSL - mu\n",
    "    n <- sum(!is.na(dev))\n",
    "    s <- sum(dev > T, na.rm = TRUE)\n",
    "    list(n = n, s = s)\n",
    "}\n",
    "\n",
    "# Beta and posterior Simulation\n",
    "beta_update_sim <- function(n, s, a0 = 4, b0 = 16, n_draws = 10000) {\n",
    "    a_post <- a0 + s\n",
    "    b_post <- b0 + (n - s)\n",
    "    draws <- rbeta(n_draws, a_post, b_post)\n",
    "#Exceedance counts bear no successes, posterior distribution flat.\n",
    "#Quantiles return NA. Used as.numeric for numeric output\n",
    "    c(mean = mean (draws),\n",
    "      `2.5%` = as.numeric(quantile(draws, 0.025)),\n",
    "      `97.5%` = as.numeric(quantile(draws, 0.975)))\n",
    "}\n",
    "\n",
    "#Thresholds\n",
    "T110 <- 0.110\n",
    "T115 <- 0.115\n",
    "\n",
    "#Split the data\n",
    "tuvalu_y <- yearly %>% filter(Country == \"Tuvalu\")\n",
    "japan_y <- yearly %>% filter(Country == \"Japan\")\n",
    "\n",
    "#Tuvalu's counts and posterior summaries:\n",
    "tu_110 <- count_exceed(tuvalu_y, T110)\n",
    "tu_115 <- count_exceed(tuvalu_y, T115)\n",
    "\n",
    "jp_110 <- count_exceed(japan_y, T110)\n",
    "jp_115 <- count_exceed(japan_y, T115)\n",
    "\n",
    "\n",
    "# Posterior simulations for both countries\n",
    "post_tu_110 <- beta_update_sim(tu_110$n, tu_110$s)\n",
    "post_tu_115 <- beta_update_sim(tu_115$n, tu_115$s)\n",
    "post_jp_110 <- beta_update_sim(jp_110$n, jp_110$s)\n",
    "post_jp_115 <- beta_update_sim(jp_115$n, jp_115$s)\n",
    "\n",
    "\n",
    "# ---- 5) Collect results side-by-side ----\n",
    "bayes_comp <- tibble::tibble(\n",
    "  Country   = c(\"Tuvalu\",\"Tuvalu\",\"Japan\",\"Japan\"),\n",
    "  Threshold = c(\"110 mm\",\"115 mm\",\"110 mm\",\"115 mm\"),\n",
    "  n_years   = c(tu_110$n, tu_115$n, jp_110$n, jp_115$n),\n",
    "  successes = c(tu_110$s, tu_115$s, jp_110$s, jp_115$s),\n",
    "  post_mean = c(post_tu_110[\"mean\"], post_tu_115[\"mean\"],\n",
    "                post_jp_110[\"mean\"], post_jp_115[\"mean\"]),\n",
    "  post_lo   = c(post_tu_110[\"2.5%\"], post_tu_115[\"2.5%\"],\n",
    "                post_jp_110[\"2.5%\"], post_jp_115[\"2.5%\"]),\n",
    "  post_hi   = c(post_tu_110[\"97.5%\"], post_tu_115[\"97.5%\"],\n",
    "                post_jp_110[\"97.5%\"], post_jp_115[\"97.5%\"])\n",
    ")\n",
    "bayes_comp\n"
   ]
  },
  {
   "cell_type": "code",
   "execution_count": 115,
   "id": "755f59a6-9533-476c-ad2a-48b12cba6c7a",
   "metadata": {},
   "outputs": [
    {
     "data": {
      "text/plain": [
       "Series: tu_ts \n",
       "ARIMA(2,0,0)(0,0,1)[12] with non-zero mean \n",
       "\n",
       "Coefficients:\n",
       "         ar1      ar2     sma1    mean\n",
       "      0.9667  -0.0680  -0.0962  6.9999\n",
       "s.e.  0.0401   0.0403   0.0406  0.0063\n",
       "\n",
       "sigma^2 = 0.0003212:  log likelihood = 1643.51\n",
       "AIC=-3277.03   AICc=-3276.93   BIC=-3254.79\n",
       "\n",
       "Training set error measures:\n",
       "                       ME       RMSE         MAE         MPE     MAPE      MASE\n",
       "Training set 0.0001517969 0.01786394 0.009912697 0.001500741 0.141791 0.1825482\n",
       "                     ACF1\n",
       "Training set -0.006525738"
      ]
     },
     "metadata": {},
     "output_type": "display_data"
    },
    {
     "name": "stdout",
     "output_type": "stream",
     "text": [
      "\n",
      "\tLjung-Box test\n",
      "\n",
      "data:  Residuals from ARIMA(2,0,0)(0,0,1)[12] with non-zero mean\n",
      "Q* = 25.124, df = 21, p-value = 0.2418\n",
      "\n",
      "Model df: 3.   Total lags used: 24\n",
      "\n"
     ]
    },
    {
     "data": {
      "image/png": "[encoded data removed]",
      "text/plain": [
       "plot without title"
      ]
     },
     "metadata": {
      "image/png": {
       "height": 420,
       "width": 420
      }
     },
     "output_type": "display_data"
    },
    {
     "data": {
      "image/png": "[encoded data removed]",
      "text/plain": [
       "plot without title"
      ]
     },
     "metadata": {
      "image/png": {
       "height": 420,
       "width": 420
      }
     },
     "output_type": "display_data"
    }
   ],
   "source": [
    "\n",
    "library(dplyr)\n",
    "library(lubridate)\n",
    "library(tidyr)\n",
    "library(forecast)\n",
    "library(ggplot2)\n",
    "\n",
    "# 1) Build Tuvalu series with whatever years exist\n",
    "tu_raw <- combined %>%\n",
    "  filter(Country == \"Tuvalu\") %>%\n",
    "  mutate(date = make_date(Year, Month, 1)) %>%\n",
    "  arrange(date)\n",
    "\n",
    "# Guard: stop if still empty\n",
    "stopifnot(nrow(tu_raw) > 0)\n",
    "\n",
    "# Use actual min/max dates (not hard-coded 1993–2022)\n",
    "rng <- range(tu_raw$date, na.rm = TRUE)\n",
    "\n",
    "tuvalu_y <- tu_raw %>%\n",
    "  select(date, msl = Monthly_MSL) %>%\n",
    "  complete(date = seq(rng[1], rng[2], by = \"month\")) %>%\n",
    "  mutate(msl = forecast::na.interp(msl))\n",
    "\n",
    "# 2) Make monthly ts starting at the first observation\n",
    "start_year  <- year(min(tuvalu_y$date, na.rm = TRUE))\n",
    "start_month <- month(min(tuvalu_y$date, na.rm = TRUE))\n",
    "tu_ts <- ts(tuvalu_y$msl, start = c(start_year, start_month), frequency = 12)\n",
    "\n",
    "# 3) Fit ARIMA\n",
    "fit_tu <- auto.arima(tu_ts, stepwise = TRUE, approximation = FALSE)\n",
    "summary(fit_tu)\n",
    "checkresiduals(fit_tu)\n",
    "\n",
    "# 4) Forecast to end of 2030\n",
    "last_d  <- max(tuvalu_y$date, na.rm = TRUE)\n",
    "h_months <- (2030 - year(last_d)) * 12 + (12 - month(last_d))\n",
    "fc_tu <- forecast(fit_tu, h = h_months)\n",
    "\n",
    "# 5) Plot\n",
    "autoplot(fc_tu) +\n",
    "  labs(title = \"Tuvalu Monthly Mean Sea Level Forecast to 2030\",\n",
    "       x = \"Year\", y = \"Monthly MSL (m)\") +\n",
    "  theme_minimal()\n",
    "\n",
    "\n",
    "\n",
    "\n",
    "\n",
    "\n"
   ]
  },
  {
   "cell_type": "code",
   "execution_count": null,
   "id": "51961967-4b80-4592-b8cb-f291a5eef6fc",
   "metadata": {},
   "outputs": [],
   "source": []
  }
 ],
 "metadata": {
  "kernelspec": {
   "display_name": "R",
   "language": "R",
   "name": "ir"
  },
  "language_info": {
   "codemirror_mode": "r",
   "file_extension": ".r",
   "mimetype": "text/x-r-source",
   "name": "R",
   "pygments_lexer": "r",
   "version": "4.5.1"
  }
 },
 "nbformat": 4,
 "nbformat_minor": 5
}
