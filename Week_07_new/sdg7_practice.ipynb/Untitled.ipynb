{
 "cells": [
  {
   "cell_type": "code",
   "execution_count": 6,
   "id": "e7cc4537-57ec-44e4-b362-b33eb421ca70",
   "metadata": {},
   "outputs": [
    {
     "data": {
      "text/html": [
       "<table class=\"dataframe\">\n",
       "<caption>A data.frame: 6 × 2</caption>\n",
       "<thead>\n",
       "\t<tr><th></th><th scope=col>Year</th><th scope=col>Renewable_Energy_Percent</th></tr>\n",
       "\t<tr><th></th><th scope=col>&lt;int&gt;</th><th scope=col>&lt;dbl&gt;</th></tr>\n",
       "</thead>\n",
       "<tbody>\n",
       "\t<tr><th scope=row>1</th><td>1990</td><td>12.75</td></tr>\n",
       "\t<tr><th scope=row>2</th><td>1991</td><td>12.26</td></tr>\n",
       "\t<tr><th scope=row>3</th><td>1992</td><td>13.91</td></tr>\n",
       "\t<tr><th scope=row>4</th><td>1993</td><td>15.69</td></tr>\n",
       "\t<tr><th scope=row>5</th><td>1994</td><td>13.52</td></tr>\n",
       "\t<tr><th scope=row>6</th><td>1995</td><td>13.99</td></tr>\n",
       "</tbody>\n",
       "</table>\n"
      ],
      "text/latex": [
       "A data.frame: 6 × 2\n",
       "\\begin{tabular}{r|ll}\n",
       "  & Year & Renewable\\_Energy\\_Percent\\\\\n",
       "  & <int> & <dbl>\\\\\n",
       "\\hline\n",
       "\t1 & 1990 & 12.75\\\\\n",
       "\t2 & 1991 & 12.26\\\\\n",
       "\t3 & 1992 & 13.91\\\\\n",
       "\t4 & 1993 & 15.69\\\\\n",
       "\t5 & 1994 & 13.52\\\\\n",
       "\t6 & 1995 & 13.99\\\\\n",
       "\\end{tabular}\n"
      ],
      "text/markdown": [
       "\n",
       "A data.frame: 6 × 2\n",
       "\n",
       "| <!--/--> | Year &lt;int&gt; | Renewable_Energy_Percent &lt;dbl&gt; |\n",
       "|---|---|---|\n",
       "| 1 | 1990 | 12.75 |\n",
       "| 2 | 1991 | 12.26 |\n",
       "| 3 | 1992 | 13.91 |\n",
       "| 4 | 1993 | 15.69 |\n",
       "| 5 | 1994 | 13.52 |\n",
       "| 6 | 1995 | 13.99 |\n",
       "\n"
      ],
      "text/plain": [
       "  Year Renewable_Energy_Percent\n",
       "1 1990 12.75                   \n",
       "2 1991 12.26                   \n",
       "3 1992 13.91                   \n",
       "4 1993 15.69                   \n",
       "5 1994 13.52                   \n",
       "6 1995 13.99                   "
      ]
     },
     "metadata": {},
     "output_type": "display_data"
    },
    {
     "data": {
      "text/plain": [
       "      Year      Renewable_Energy_Percent\n",
       " Min.   :1990   Min.   :12.26           \n",
       " 1st Qu.:1998   1st Qu.:15.98           \n",
       " Median :2006   Median :18.19           \n",
       " Mean   :2006   Mean   :19.30           \n",
       " 3rd Qu.:2014   3rd Qu.:22.46           \n",
       " Max.   :2022   Max.   :29.31           "
      ]
     },
     "metadata": {},
     "output_type": "display_data"
    }
   ],
   "source": [
    "data <- read.csv(\"../sdg7_renewable_energy_percent.csv\")\n",
    "head(data)\n",
    "summary(data)"
   ]
  },
  {
   "cell_type": "code",
   "execution_count": 7,
   "id": "84c1c871-3877-4dd4-a94e-677e9f23d358",
   "metadata": {},
   "outputs": [],
   "source": [
    "data <- na.omit(data)\n",
    "data <- unique(data)\n",
    "\n",
    "data$Year <- as.integer(data$Year)\n",
    "data$Renewable_Energy_Percent <- as.numeric(data$Renewable_Energy_Percent)\n"
   ]
  },
  {
   "cell_type": "code",
   "execution_count": 8,
   "id": "d2d06166-25a7-4ffd-99a9-7750c1e30ab5",
   "metadata": {},
   "outputs": [
    {
     "ename": "ERROR",
     "evalue": "Error in library(ggplot2): there is no package called 'ggplot2'\n",
     "output_type": "error",
     "traceback": [
      "Error in library(ggplot2): there is no package called 'ggplot2'\nTraceback:\n",
      "1. stop(packageNotFoundError(package, lib.loc, sys.call()))"
     ]
    }
   ],
   "source": [
    "library(ggplot2)\n",
    "\n",
    "ggplot(data, aes(x = Year, y = Renewable_Energy_Percent)) +\n",
    "  geom_line(color = \"darkgreen\") +\n",
    "  geom_point() +\n",
    "  labs(title = \"Renewable Energy (% of Total)\", y = \"Percent\", x = \"Year\") +\n",
    "  theme_minimal()"
   ]
  },
  {
   "cell_type": "code",
   "execution_count": 9,
   "id": "e8f8c59a-2591-43e8-ab25-b05cc4603c89",
   "metadata": {},
   "outputs": [
    {
     "name": "stderr",
     "output_type": "stream",
     "text": [
      "Installing package into 'C:/Users/ricop/AppData/Local/R/win-library/4.5'\n",
      "(as 'lib' is unspecified)\n",
      "\n",
      "also installing the dependencies 'farver', 'labeling', 'R6', 'RColorBrewer', 'viridisLite', 'magrittr', 'pkgconfig', 'gtable', 'isoband', 'scales', 'tibble', 'withr'\n",
      "\n",
      "\n"
     ]
    },
    {
     "name": "stdout",
     "output_type": "stream",
     "text": [
      "package 'farver' successfully unpacked and MD5 sums checked\n",
      "package 'labeling' successfully unpacked and MD5 sums checked\n",
      "package 'R6' successfully unpacked and MD5 sums checked\n",
      "package 'RColorBrewer' successfully unpacked and MD5 sums checked\n",
      "package 'viridisLite' successfully unpacked and MD5 sums checked\n",
      "package 'magrittr' successfully unpacked and MD5 sums checked\n",
      "package 'pkgconfig' successfully unpacked and MD5 sums checked\n",
      "package 'gtable' successfully unpacked and MD5 sums checked\n",
      "package 'isoband' successfully unpacked and MD5 sums checked\n",
      "package 'scales' successfully unpacked and MD5 sums checked\n",
      "package 'tibble' successfully unpacked and MD5 sums checked\n",
      "package 'withr' successfully unpacked and MD5 sums checked\n",
      "package 'ggplot2' successfully unpacked and MD5 sums checked\n",
      "\n",
      "The downloaded binary packages are in\n",
      "\tC:\\Users\\ricop\\AppData\\Local\\Temp\\RtmpkBkjAE\\downloaded_packages\n"
     ]
    },
    {
     "data": {
      "image/png": "[encoded data removed]",
      "text/plain": [
       "plot without title"
      ]
     },
     "metadata": {
      "image/png": {
       "height": 420,
       "width": 420
      }
     },
     "output_type": "display_data"
    }
   ],
   "source": [
    "install.packages(\"ggplot2\")\n",
    "library(ggplot2)\n",
    "\n",
    "\n",
    "ggplot(data, aes(x = Year, y = Renewable_Energy_Percent)) +\n",
    "  geom_line(color = \"darkgreen\") +\n",
    "  geom_point() +\n",
    "  labs(title = \"Renewable Energy (% of Total)\", y = \"Percent\", x = \"Year\") +\n",
    "  theme_minimal()"
   ]
  },
  {
   "cell_type": "code",
   "execution_count": 10,
   "id": "883e7361-482a-47f3-b48a-48094020c4bf",
   "metadata": {},
   "outputs": [
    {
     "name": "stderr",
     "output_type": "stream",
     "text": [
      "\u001b[1m\u001b[22m`geom_smooth()` using method = 'loess' and formula = 'y ~ x'\n"
     ]
    },
    {
     "data": {
      "text/plain": [
       "NULL"
      ]
     },
     "metadata": {},
     "output_type": "display_data"
    },
    {
     "data": {
      "image/png": "[encoded data removed]",
      "text/plain": [
       "plot without title"
      ]
     },
     "metadata": {
      "image/png": {
       "height": 420,
       "width": 420
      }
     },
     "output_type": "display_data"
    }
   ],
   "source": [
    "library(ggplot2)\n",
    "\n",
    "\n",
    "ggplot(data, aes(x = Year, y = Renewable_Energy_Percent)) +\n",
    "  geom_line(color = \"darkgreen\") +\n",
    "  geom_point() +\n",
    "  geom_smooth()\n",
    "  labs(title = \"Renewable Energy (% of Total)\", y = \"Percent\", x = \"Year\") +\n",
    "  theme_minimal()"
   ]
  },
  {
   "cell_type": "code",
   "execution_count": 11,
   "id": "e91574c5-0952-4958-bc32-de2b68320031",
   "metadata": {},
   "outputs": [
    {
     "data": {
      "image/png": "[encoded data removed]",
      "text/plain": [
       "Plot with title \"Renewable Energy Time Series\""
      ]
     },
     "metadata": {
      "image/png": {
       "height": 420,
       "width": 420
      }
     },
     "output_type": "display_data"
    }
   ],
   "source": [
    "ts_data <- ts(data$Renewable_Energy_Percent, start = 1990, frequency = 1)\n",
    "plot(ts_data, main = \"Renewable Energy Time Series\", ylab = \"% of Energy\", xlab = \"Year\")"
   ]
  },
  {
   "cell_type": "code",
   "execution_count": 12,
   "id": "4ed279d6-0526-4a80-bf61-fca2f8a2a8f1",
   "metadata": {},
   "outputs": [
    {
     "ename": "ERROR",
     "evalue": "Error in library(tseries): there is no package called 'tseries'\n",
     "output_type": "error",
     "traceback": [
      "Error in library(tseries): there is no package called 'tseries'\nTraceback:\n",
      "1. stop(packageNotFoundError(package, lib.loc, sys.call()))"
     ]
    }
   ],
   "source": [
    "library(tseries)\n",
    "\n",
    "adf.test(ts_data)  # Augmented Dickey-Fuller Test"
   ]
  },
  {
   "cell_type": "code",
   "execution_count": 13,
   "id": "a3e51845-21eb-47e3-871d-cdff8e2fadda",
   "metadata": {},
   "outputs": [
    {
     "name": "stderr",
     "output_type": "stream",
     "text": [
      "Installing package into 'C:/Users/ricop/AppData/Local/R/win-library/4.5'\n",
      "(as 'lib' is unspecified)\n",
      "\n",
      "also installing the dependencies 'xts', 'TTR', 'curl', 'quadprog', 'zoo', 'quantmod'\n",
      "\n",
      "\n"
     ]
    },
    {
     "name": "stdout",
     "output_type": "stream",
     "text": [
      "package 'xts' successfully unpacked and MD5 sums checked\n",
      "package 'TTR' successfully unpacked and MD5 sums checked\n",
      "package 'curl' successfully unpacked and MD5 sums checked\n",
      "package 'quadprog' successfully unpacked and MD5 sums checked\n",
      "package 'zoo' successfully unpacked and MD5 sums checked\n",
      "package 'quantmod' successfully unpacked and MD5 sums checked\n",
      "package 'tseries' successfully unpacked and MD5 sums checked\n",
      "\n",
      "The downloaded binary packages are in\n",
      "\tC:\\Users\\ricop\\AppData\\Local\\Temp\\RtmpkBkjAE\\downloaded_packages\n"
     ]
    },
    {
     "name": "stderr",
     "output_type": "stream",
     "text": [
      "Installing package into 'C:/Users/ricop/AppData/Local/R/win-library/4.5'\n",
      "(as 'lib' is unspecified)\n",
      "\n",
      "also installing the dependencies 'colorspace', 'fracdiff', 'generics', 'lmtest', 'Rcpp', 'timeDate', 'urca', 'RcppArmadillo'\n",
      "\n",
      "\n"
     ]
    },
    {
     "name": "stdout",
     "output_type": "stream",
     "text": [
      "package 'colorspace' successfully unpacked and MD5 sums checked\n",
      "package 'fracdiff' successfully unpacked and MD5 sums checked\n",
      "package 'generics' successfully unpacked and MD5 sums checked\n",
      "package 'lmtest' successfully unpacked and MD5 sums checked\n",
      "package 'Rcpp' successfully unpacked and MD5 sums checked\n",
      "package 'timeDate' successfully unpacked and MD5 sums checked\n",
      "package 'urca' successfully unpacked and MD5 sums checked\n",
      "package 'RcppArmadillo' successfully unpacked and MD5 sums checked\n",
      "package 'forecast' successfully unpacked and MD5 sums checked\n",
      "\n",
      "The downloaded binary packages are in\n",
      "\tC:\\Users\\ricop\\AppData\\Local\\Temp\\RtmpkBkjAE\\downloaded_packages\n"
     ]
    },
    {
     "name": "stderr",
     "output_type": "stream",
     "text": [
      "Registered S3 method overwritten by 'quantmod':\n",
      "  method            from\n",
      "  as.zoo.data.frame zoo \n",
      "\n"
     ]
    },
    {
     "data": {
      "text/plain": [
       "\n",
       "\tAugmented Dickey-Fuller Test\n",
       "\n",
       "data:  ts_data\n",
       "Dickey-Fuller = -1.4986, Lag order = 3, p-value = 0.7668\n",
       "alternative hypothesis: stationary\n"
      ]
     },
     "metadata": {},
     "output_type": "display_data"
    }
   ],
   "source": [
    "install.packages(\"tseries\")\n",
    "\n",
    "install.packages(\"forecast\")\n",
    "\n",
    "library(tseries)\n",
    "\n",
    "adf.test(ts_data)  # Augmented Dickey-Fuller Test\n"
   ]
  },
  {
   "cell_type": "code",
   "execution_count": 14,
   "id": "cc7ab426-9dc5-48aa-98d6-63afe56d29ec",
   "metadata": {},
   "outputs": [
    {
     "name": "stderr",
     "output_type": "stream",
     "text": [
      "Warning message in adf.test(ts_diff):\n",
      "\"p-value smaller than printed p-value\"\n"
     ]
    },
    {
     "data": {
      "text/plain": [
       "\n",
       "\tAugmented Dickey-Fuller Test\n",
       "\n",
       "data:  ts_diff\n",
       "Dickey-Fuller = -4.445, Lag order = 3, p-value = 0.01\n",
       "alternative hypothesis: stationary\n"
      ]
     },
     "metadata": {},
     "output_type": "display_data"
    }
   ],
   "source": [
    "ts_diff <- diff(ts_data)\n",
    "adf.test(ts_diff)"
   ]
  },
  {
   "cell_type": "code",
   "execution_count": 15,
   "id": "3de04e6e-84e4-432b-862c-3bd7962c5e84",
   "metadata": {},
   "outputs": [
    {
     "data": {
      "text/plain": [
       "Series: ts_data \n",
       "ARIMA(0,1,1) with drift \n",
       "\n",
       "Coefficients:\n",
       "          ma1   drift\n",
       "      -0.8272  0.4483\n",
       "s.e.   0.1485  0.0524\n",
       "\n",
       "sigma^2 = 2.142:  log likelihood = -57.14\n",
       "AIC=120.28   AICc=121.14   BIC=124.68\n",
       "\n",
       "Training set error measures:\n",
       "                      ME     RMSE      MAE        MPE    MAPE     MASE\n",
       "Training set -0.02003848 1.395607 1.056973 -0.8469776 5.71951 0.646343\n",
       "                   ACF1\n",
       "Training set -0.0750061"
      ]
     },
     "metadata": {},
     "output_type": "display_data"
    }
   ],
   "source": [
    "library(forecast)\n",
    "\n",
    "model <- auto.arima(ts_data)\n",
    "summary(model)"
   ]
  },
  {
   "cell_type": "code",
   "execution_count": 16,
   "id": "3ebcfb9e-1fd7-41ca-956b-be6ac6856ecb",
   "metadata": {},
   "outputs": [
    {
     "data": {
      "image/png": "[encoded data removed]",
      "text/plain": [
       "Plot with title \"Forecast of Renewable Energy to 2030\""
      ]
     },
     "metadata": {
      "image/png": {
       "height": 420,
       "width": 420
      }
     },
     "output_type": "display_data"
    }
   ],
   "source": [
    "forecasted <- forecast(model, h = 15)  # 2023 to 2030\n",
    "plot(forecasted, main = \"Forecast of Renewable Energy to 2030\")"
   ]
  },
  {
   "cell_type": "code",
   "execution_count": 17,
   "id": "48192075-0054-4992-8eb6-fd4f137a7700",
   "metadata": {},
   "outputs": [
    {
     "data": {
      "text/plain": [
       "Series: log(ts_data) \n",
       "ARIMA(2,1,0) with drift \n",
       "\n",
       "Coefficients:\n",
       "          ar1      ar2   drift\n",
       "      -0.6834  -0.5564  0.0246\n",
       "s.e.   0.1451   0.1451  0.0059\n",
       "\n",
       "sigma^2 = 0.005898:  log likelihood = 37.82\n",
       "AIC=-67.65   AICc=-66.16   BIC=-61.78\n",
       "\n",
       "Training set error measures:\n",
       "                        ME       RMSE        MAE         MPE     MAPE      MASE\n",
       "Training set -2.121013e-05 0.07199155 0.05741107 -0.04556381 1.968135 0.6656639\n",
       "                   ACF1\n",
       "Training set -0.1128672"
      ]
     },
     "metadata": {},
     "output_type": "display_data"
    },
    {
     "name": "stdout",
     "output_type": "stream",
     "text": [
      "\n",
      "\tLjung-Box test\n",
      "\n",
      "data:  Residuals from ARIMA(2,1,0) with drift\n",
      "Q* = 11.106, df = 5, p-value = 0.04932\n",
      "\n",
      "Model df: 2.   Total lags used: 7\n",
      "\n"
     ]
    },
    {
     "data": {
      "image/png": "[encoded data removed]",
      "text/plain": [
       "plot without title"
      ]
     },
     "metadata": {
      "image/png": {
       "height": 420,
       "width": 420
      }
     },
     "output_type": "display_data"
    }
   ],
   "source": [
    "model <- auto.arima(log(ts_data))\n",
    "summary(model)\n",
    "\n",
    "checkresiduals(model)"
   ]
  },
  {
   "cell_type": "code",
   "execution_count": null,
   "id": "3896d4f6-85c9-46a1-a05d-6b25e947b169",
   "metadata": {},
   "outputs": [],
   "source": []
  }
 ],
 "metadata": {
  "kernelspec": {
   "display_name": "R",
   "language": "R",
   "name": "ir"
  },
  "language_info": {
   "codemirror_mode": "r",
   "file_extension": ".r",
   "mimetype": "text/x-r-source",
   "name": "R",
   "pygments_lexer": "r",
   "version": "4.5.1"
  }
 },
 "nbformat": 4,
 "nbformat_minor": 5
}
