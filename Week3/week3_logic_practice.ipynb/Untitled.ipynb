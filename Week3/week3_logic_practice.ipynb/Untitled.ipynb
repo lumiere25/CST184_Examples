{
 "cells": [
  {
   "cell_type": "code",
   "execution_count": 7,
   "id": "d2246899-2e25-47e1-aade-ca87ed0e08e4",
   "metadata": {},
   "outputs": [
    {
     "name": "stdout",
     "output_type": "stream",
     "text": [
      "Nepal qualifies for Policy A\n",
      "High Renewable: True\n",
      "Low Emission: True\n"
     ]
    }
   ],
   "source": [
    "# Scenario:\n",
    "# You are assessing whether a country qualifies for Policy A.\n",
    "# Policy A is designed to reward countries with high renewable energy use\n",
    "# and low CO₂ emissions per capita.\n",
    "\n",
    "# Country data (you can modify these values below)\n",
    "country_name = \"Nepal\"\n",
    "percent_renewable = 45\n",
    "co2_emissions = 1.8\n",
    "region = \"Europe\"\n",
    "\n",
    "# Define logical conditions\n",
    "is_high_renewable = percent_renewable > 40\n",
    "is_low_emission = co2_emissions < 2\n",
    "\n",
    "# Combined logical proposition using AND\n",
    "if is_high_renewable or is_low_emission != \"Oceania\":\n",
    "    print(f\"{country_name} qualifies for Policy A\")\n",
    "elif region == \"Oceania\":\n",
    "    print(f\"{country_name} is excluded from Policy A due to it's region \")\n",
    "\n",
    "else:\n",
    "    print(f\"{region} Does not qualify for Policy A\")\n",
    "\n",
    "# Display Boolean values for learning\n",
    "print(\"High Renewable:\", is_high_renewable)\n",
    "print(\"Low Emission:\", is_low_emission)"
   ]
  },
  {
   "cell_type": "markdown",
   "id": "6f2418cb-50f9-4280-8d11-64a9f24106bd",
   "metadata": {},
   "source": [
    "### \n",
    "\n",
    "\n",
    "\n",
    "\n",
    "\n",
    "\n",
    "\n",
    "vvvvvvvvvvvvvvv+9 866666+67b\\4\n"
   ]
  },
  {
   "cell_type": "code",
   "execution_count": 11,
   "id": "dbf9b1ee-798b-4ef7-9f9d-b8f68bde696d",
   "metadata": {},
   "outputs": [
    {
     "name": "stdout",
     "output_type": "stream",
     "text": [
      "China qualifies for Policy A\n",
      "High Renewable: False\n",
      "Low Emission: True\n"
     ]
    }
   ],
   "source": [
    "# Scenario:\n",
    "# You are assessing whether a country qualifies for Policy A.\n",
    "# Policy A is designed to reward countries with high renewable energy use\n",
    "# and low CO₂ emissions per capita.\n",
    "\n",
    "# Country data (you can modify these values below)\n",
    "country_name = \"China\"\n",
    "percent_renewable = 45\n",
    "co2_emissions = 1.8\n",
    "region = \"Europe\"\n",
    "\n",
    "# Define logical conditions\n",
    "is_high_renewable = percent_renewable > 60\n",
    "is_low_emission = co2_emissions < 2\n",
    "\n",
    "# Combined logical proposition using AND\n",
    "if is_high_renewable or is_low_emission != \"Oceania\":\n",
    "    print(f\"{country_name} qualifies for Policy A\")\n",
    "elif region == \"Oceania\":\n",
    "    print(f\"{country_name} is excluded from Policy A due to it's region \")\n",
    "\n",
    "else:\n",
    "    print(f\"{region} Does not qualify for Policy A\")\n",
    "\n",
    "# Display Boolean values for learning\n",
    "print(\"High Renewable:\", is_high_renewable)\n",
    "print(\"Low Emission:\", is_low_emission)"
   ]
  },
  {
   "cell_type": "code",
   "execution_count": null,
   "id": "6b6d116e-2aa3-479d-85bd-992ef9acc923",
   "metadata": {},
   "outputs": [],
   "source": []
  }
 ],
 "metadata": {
  "kernelspec": {
   "display_name": "Python 3 (ipykernel)",
   "language": "python",
   "name": "python3"
  },
  "language_info": {
   "codemirror_mode": {
    "name": "ipython",
    "version": 3
   },
   "file_extension": ".py",
   "mimetype": "text/x-python",
   "name": "python",
   "nbconvert_exporter": "python",
   "pygments_lexer": "ipython3",
   "version": "3.13.3"
  }
 },
 "nbformat": 4,
 "nbformat_minor": 5
}
