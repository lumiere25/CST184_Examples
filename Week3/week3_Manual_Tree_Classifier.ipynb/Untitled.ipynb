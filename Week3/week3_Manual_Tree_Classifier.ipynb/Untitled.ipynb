{
 "cells": [
  {
   "cell_type": "code",
   "execution_count": 19,
   "id": "a952965d-4f81-4a36-9ebe-74f76db6efc8",
   "metadata": {},
   "outputs": [
    {
     "name": "stdout",
     "output_type": "stream",
     "text": [
      "Egypt is classified under: Policy B\n",
      "\n",
      "--- Decision Path ---\n",
      "High Renewable: True\n",
      "Low CO₂ Emissions: False\n"
     ]
    }
   ],
   "source": [
    "\n",
    "# Manual simulation of a decision tree\n",
    "\n",
    "# Example country data (change values to test different paths)\n",
    "country = \"Egypt\"\n",
    "percent_renewable = 65\n",
    "co2_emissions = 2.5\n",
    "region = \"Oceania\"\n",
    "\n",
    "# Simulated decision tree structure\n",
    "# Simulated decision tree structure\n",
    "if percent_renewable > 50:\n",
    "    if co2_emissions < 2:\n",
    "        classification = \"Policy A\"\n",
    "    else:\n",
    "        classification = \"Policy B\"\n",
    "\n",
    "elif co2_emissions < 2:\n",
    "    classification = \"Policy C\"\n",
    "\n",
    "elif region == \"Africa\" and (percent_renewable > 50 or co2_emissions < 2):\n",
    "    classification = \"Policy D\"\n",
    "\n",
    "elif co2_emissions > 6:\n",
    "    print(f\"{country} flagged for urgent review\")\n",
    "    classification = \"No Policy\"\n",
    "\n",
    "else:\n",
    "    classification = \"No Policy\"\n",
    "\n",
    "# Output the result\n",
    "print(f\"{country} is classified under: {classification}\")\n",
    "\n",
    "# Show decision path\n",
    "print(\"\\n--- Decision Path ---\")\n",
    "print(\"High Renewable:\", percent_renewable > 50)\n",
    "print(\"Low CO₂ Emissions:\", co2_emissions < 2)"
   ]
  },
  {
   "cell_type": "code",
   "execution_count": null,
   "id": "5d6ea966-7f72-47cf-96d5-67fa57e582a2",
   "metadata": {},
   "outputs": [],
   "source": []
  }
 ],
 "metadata": {
  "kernelspec": {
   "display_name": "Python 3 (ipykernel)",
   "language": "python",
   "name": "python3"
  },
  "language_info": {
   "codemirror_mode": {
    "name": "ipython",
    "version": 3
   },
   "file_extension": ".py",
   "mimetype": "text/x-python",
   "name": "python",
   "nbconvert_exporter": "python",
   "pygments_lexer": "ipython3",
   "version": "3.13.3"
  }
 },
 "nbformat": 4,
 "nbformat_minor": 5
}
