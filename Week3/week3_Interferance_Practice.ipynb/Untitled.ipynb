{
 "cells": [
  {
   "cell_type": "code",
   "execution_count": 6,
   "id": "93cebb1f-d6b4-421b-8778-ea4e235b8d75",
   "metadata": {},
   "outputs": [
    {
     "name": "stdout",
     "output_type": "stream",
     "text": [
      "Kenya does not qualify for Policy A.\n",
      "Kenya should be fast-tracked for funding support.\n",
      "\n",
      "--- Truth Table Output ---\n",
      "High Renewable: True\n",
      "Low Emissions: True\n",
      "Is in Africa: False\n",
      "Is Low Income: True\n"
     ]
    }
   ],
   "source": [
    "\n",
    "# Scenario: Apply logic-based policy rules to simulated country data\n",
    "\n",
    "country = \"Kenya\"\n",
    "percent_renewable = 60      # % of energy from renewables\n",
    "co2_emissions = 1.6         # tonnes per capita\n",
    "region = \"Europe\"\n",
    "is_low_income = True\n",
    "\n",
    "# Inference Rule (Modus Ponens style):\n",
    "# If renewable > 50 and emissions < 2, then country qualifies for Policy A\n",
    "if percent_renewable > 60 and co2_emissions < 2 and region != \"Oceania\":\n",
    "    print(f\"{country} qualifies for Policy A.\")\n",
    "else:\n",
    "    print(f\"{country} does not qualify for Policy A.\")\n",
    "\n",
    "# Inference Chain:\n",
    "# If Policy A applies and the country is in Africa or is low income, flag for fast-track aid\n",
    "if percent_renewable > 50 and co2_emissions < 2:\n",
    "    if region == \"Africa\" or is_low_income:\n",
    "        print(f\"{country} should be fast-tracked for funding support.\")\n",
    "\n",
    "# Explain the logic in Boolean values\n",
    "print(\"\\n--- Truth Table Output ---\")\n",
    "print(\"High Renewable:\", percent_renewable > 50)\n",
    "print(\"Low Emissions:\", co2_emissions < 2)\n",
    "print(\"Is in Africa:\", region == \"Africa\")\n",
    "print(\"Is Low Income:\", is_low_income)"
   ]
  },
  {
   "cell_type": "code",
   "execution_count": null,
   "id": "634398c5-252b-4baf-812e-83ec37d3b00d",
   "metadata": {},
   "outputs": [],
   "source": []
  },
  {
   "cell_type": "code",
   "execution_count": null,
   "id": "5a26e7a1-a95c-4fa8-9bf4-513790676111",
   "metadata": {},
   "outputs": [],
   "source": []
  }
 ],
 "metadata": {
  "kernelspec": {
   "display_name": "Python 3 (ipykernel)",
   "language": "python",
   "name": "python3"
  },
  "language_info": {
   "codemirror_mode": {
    "name": "ipython",
    "version": 3
   },
   "file_extension": ".py",
   "mimetype": "text/x-python",
   "name": "python",
   "nbconvert_exporter": "python",
   "pygments_lexer": "ipython3",
   "version": "3.13.3"
  }
 },
 "nbformat": 4,
 "nbformat_minor": 5
}
