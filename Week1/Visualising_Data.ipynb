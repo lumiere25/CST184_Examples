{
 "cells": [
  {
   "cell_type": "code",
   "execution_count": 1,
   "id": "39051a06",
   "metadata": {},
   "outputs": [
    {
     "ename": "ModuleNotFoundError",
     "evalue": "No module named 'matplotlib'",
     "output_type": "error",
     "traceback": [
      "\u001b[31m---------------------------------------------------------------------------\u001b[39m",
      "\u001b[31mModuleNotFoundError\u001b[39m                       Traceback (most recent call last)",
      "\u001b[36mCell\u001b[39m\u001b[36m \u001b[39m\u001b[32mIn[1]\u001b[39m\u001b[32m, line 3\u001b[39m\n\u001b[32m      1\u001b[39m \u001b[38;5;66;03m# --- BAR CHART: CO₂ EMISSIONS ---\u001b[39;00m\n\u001b[32m----> \u001b[39m\u001b[32m3\u001b[39m \u001b[38;5;28;01mimport\u001b[39;00m\u001b[38;5;250m \u001b[39m\u001b[34;01mmatplotlib\u001b[39;00m\u001b[34;01m.\u001b[39;00m\u001b[34;01mpyplot\u001b[39;00m\u001b[38;5;250m \u001b[39m\u001b[38;5;28;01mas\u001b[39;00m\u001b[38;5;250m \u001b[39m\u001b[34;01mplt\u001b[39;00m\n\u001b[32m      4\u001b[39m \u001b[38;5;28;01mimport\u001b[39;00m\u001b[38;5;250m \u001b[39m\u001b[34;01mpandas\u001b[39;00m\u001b[38;5;250m \u001b[39m\u001b[38;5;28;01mas\u001b[39;00m\u001b[38;5;250m \u001b[39m\u001b[34;01mpd\u001b[39;00m\n\u001b[32m      6\u001b[39m \u001b[38;5;66;03m# Dictionary of emissions per capita (in tonnes)\u001b[39;00m\n",
      "\u001b[31mModuleNotFoundError\u001b[39m: No module named 'matplotlib'"
     ]
    }
   ],
   "source": [
    "\n",
    "# --- BAR CHART: CO₂ EMISSIONS ---\n",
    "\n",
    "import matplotlib.pyplot as plt\n",
    "import pandas as pd\n",
    "\n",
    "# Dictionary of emissions per capita (in tonnes)\n",
    "emissions = {\"Nepal\": 0.3, \"Kenya\": 0.5, \"Brazil\": 2.1}\n",
    "\n",
    "# Bar chart using matplotlib\n",
    "plt.bar(emissions.keys(), emissions.values())\n",
    "plt.title(\"CO₂ Emissions per Capita\")\n",
    "plt.xlabel(\"Country\")\n",
    "plt.ylabel(\"Tonnes\")\n",
    "plt.grid(True)\n",
    "plt.show()\n",
    "\n",
    "print(\"\\n---\\n\")\n",
    "\n",
    "# --- SCATTERPLOT: POPULATION VS ENERGY USE ---\n",
    "\n",
    "population = [30, 54, 213]  # in millions\n",
    "energy_use = [400, 520, 650]  # in TWh\n",
    "countries = [\"Nepal\", \"Kenya\", \"Brazil\"]\n",
    "\n",
    "plt.scatter(population, energy_use)\n",
    "\n",
    "# Add labels to each point\n",
    "for i, country in enumerate(countries):\n",
    "    plt.text(population[i], energy_use[i], country)\n",
    "\n",
    "plt.title(\"Population vs Energy Use\")\n",
    "plt.xlabel(\"Population (millions)\")\n",
    "plt.ylabel(\"Energy Use (TWh)\")\n",
    "plt.grid(True)\n",
    "plt.show()\n",
    "\n",
    "print(\"\\n---\\n\")\n",
    "\n",
    "# --- PANDAS PLOT: REPEATING BAR CHART ---\n",
    "\n",
    "# Create a simple DataFrame\n",
    "df = pd.DataFrame({\n",
    "    \"Country\": [\"Nepal\", \"Kenya\", \"Brazil\"],\n",
    "    \"Emissions\": [0.3, 0.5, 2.1]\n",
    "})\n",
    "\n",
    "# Bar chart using pandas\n",
    "df.plot(x=\"Country\", y=\"Emissions\", kind=\"bar\", legend=False)\n",
    "plt.title(\"Emissions via pandas\")\n",
    "plt.ylabel(\"Tonnes\")\n",
    "plt.grid(True)\n",
    "plt.show()\n"
   ]
  }
 ],
 "metadata": {
  "kernelspec": {
   "display_name": "Python 3",
   "language": "python",
   "name": "python3"
  },
  "language_info": {
   "codemirror_mode": {
    "name": "ipython",
    "version": 3
   },
   "file_extension": ".py",
   "mimetype": "text/x-python",
   "name": "python",
   "nbconvert_exporter": "python",
   "pygments_lexer": "ipython3",
   "version": "3.13.3"
  }
 },
 "nbformat": 4,
 "nbformat_minor": 5
}
