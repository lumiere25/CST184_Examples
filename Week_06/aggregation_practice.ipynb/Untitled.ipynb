{
 "cells": [
  {
   "cell_type": "code",
   "execution_count": 1,
   "id": "48634666-7340-43d6-8ed2-f59ab6c59115",
   "metadata": {},
   "outputs": [
    {
     "data": {
      "text/html": [
       "<div>\n",
       "<style scoped>\n",
       "    .dataframe tbody tr th:only-of-type {\n",
       "        vertical-align: middle;\n",
       "    }\n",
       "\n",
       "    .dataframe tbody tr th {\n",
       "        vertical-align: top;\n",
       "    }\n",
       "\n",
       "    .dataframe thead th {\n",
       "        text-align: right;\n",
       "    }\n",
       "</style>\n",
       "<table border=\"1\" class=\"dataframe\">\n",
       "  <thead>\n",
       "    <tr style=\"text-align: right;\">\n",
       "      <th></th>\n",
       "      <th>Region</th>\n",
       "      <th>Gender</th>\n",
       "      <th>Year</th>\n",
       "      <th>Attendance</th>\n",
       "    </tr>\n",
       "  </thead>\n",
       "  <tbody>\n",
       "    <tr>\n",
       "      <th>0</th>\n",
       "      <td>East</td>\n",
       "      <td>Female</td>\n",
       "      <td>2023</td>\n",
       "      <td>65.7</td>\n",
       "    </tr>\n",
       "    <tr>\n",
       "      <th>1</th>\n",
       "      <td>East</td>\n",
       "      <td>Female</td>\n",
       "      <td>2022</td>\n",
       "      <td>84.6</td>\n",
       "    </tr>\n",
       "    <tr>\n",
       "      <th>2</th>\n",
       "      <td>East</td>\n",
       "      <td>Female</td>\n",
       "      <td>2022</td>\n",
       "      <td>74.7</td>\n",
       "    </tr>\n",
       "    <tr>\n",
       "      <th>3</th>\n",
       "      <td>North</td>\n",
       "      <td>Female</td>\n",
       "      <td>2023</td>\n",
       "      <td>97.4</td>\n",
       "    </tr>\n",
       "    <tr>\n",
       "      <th>4</th>\n",
       "      <td>South</td>\n",
       "      <td>Male</td>\n",
       "      <td>2022</td>\n",
       "      <td>83.2</td>\n",
       "    </tr>\n",
       "    <tr>\n",
       "      <th>5</th>\n",
       "      <td>West</td>\n",
       "      <td>Female</td>\n",
       "      <td>2023</td>\n",
       "      <td>85.1</td>\n",
       "    </tr>\n",
       "    <tr>\n",
       "      <th>6</th>\n",
       "      <td>West</td>\n",
       "      <td>Female</td>\n",
       "      <td>2022</td>\n",
       "      <td>88.9</td>\n",
       "    </tr>\n",
       "    <tr>\n",
       "      <th>7</th>\n",
       "      <td>East</td>\n",
       "      <td>Female</td>\n",
       "      <td>2022</td>\n",
       "      <td>80.1</td>\n",
       "    </tr>\n",
       "    <tr>\n",
       "      <th>8</th>\n",
       "      <td>East</td>\n",
       "      <td>Male</td>\n",
       "      <td>2022</td>\n",
       "      <td>81.5</td>\n",
       "    </tr>\n",
       "    <tr>\n",
       "      <th>9</th>\n",
       "      <td>West</td>\n",
       "      <td>Female</td>\n",
       "      <td>2022</td>\n",
       "      <td>77.2</td>\n",
       "    </tr>\n",
       "  </tbody>\n",
       "</table>\n",
       "</div>"
      ],
      "text/plain": [
       "  Region  Gender  Year  Attendance\n",
       "0   East  Female  2023        65.7\n",
       "1   East  Female  2022        84.6\n",
       "2   East  Female  2022        74.7\n",
       "3  North  Female  2023        97.4\n",
       "4  South    Male  2022        83.2\n",
       "5   West  Female  2023        85.1\n",
       "6   West  Female  2022        88.9\n",
       "7   East  Female  2022        80.1\n",
       "8   East    Male  2022        81.5\n",
       "9   West  Female  2022        77.2"
      ]
     },
     "execution_count": 1,
     "metadata": {},
     "output_type": "execute_result"
    }
   ],
   "source": [
    "import pandas as pd\n",
    "import matplotlib.pyplot as plt\n",
    "import seaborn as sns\n",
    "\n",
    "df = pd.read_csv('../week6_aggregation_example.csv')\n",
    "\n",
    "df.head(10)"
   ]
  },
  {
   "cell_type": "code",
   "execution_count": 2,
   "id": "7b42b4a1-fccb-4a64-96db-f102924f2ad2",
   "metadata": {},
   "outputs": [
    {
     "name": "stdout",
     "output_type": "stream",
     "text": [
      "  Region  Attendance\n",
      "0   East   80.593939\n",
      "1  North   81.769231\n",
      "2  South   80.341176\n",
      "3   West   80.087500\n"
     ]
    }
   ],
   "source": [
    "regional_avg = df.groupby('Region')['Attendance'].mean().reset_index()\n",
    "print(regional_avg)\n"
   ]
  },
  {
   "cell_type": "code",
   "execution_count": 3,
   "id": "66528c89-2899-4ed8-bdd1-b10811520228",
   "metadata": {},
   "outputs": [
    {
     "name": "stdout",
     "output_type": "stream",
     "text": [
      "  Region  Gender  Attendance\n",
      "0   East  Female   79.352632\n",
      "1   East    Male   82.278571\n",
      "2  North  Female   81.285714\n",
      "3  North    Male   82.333333\n",
      "4  South  Female   80.214286\n",
      "5  South    Male   80.933333\n",
      "6   West  Female   83.968750\n",
      "7   West    Male   72.325000\n"
     ]
    }
   ],
   "source": [
    "by_region_gender = df.groupby(['Region', 'Gender'])['Attendance'].mean().reset_index()\n",
    "print(by_region_gender)"
   ]
  },
  {
   "cell_type": "code",
   "execution_count": 4,
   "id": "3018e5a1-3c28-4394-b487-47ae2088e56f",
   "metadata": {},
   "outputs": [
    {
     "name": "stdout",
     "output_type": "stream",
     "text": [
      "Gender     Female       Male\n",
      "Region                      \n",
      "East    79.352632  82.278571\n",
      "North   81.285714  82.333333\n",
      "South   80.214286  80.933333\n",
      "West    83.968750  72.325000\n"
     ]
    }
   ],
   "source": [
    "pivot = df.pivot_table(values='Attendance', index='Region', columns='Gender', aggfunc='mean')\n",
    "print(pivot)"
   ]
  },
  {
   "cell_type": "code",
   "execution_count": 5,
   "id": "cfafce13-89b5-4995-9082-cc084242140a",
   "metadata": {},
   "outputs": [
    {
     "name": "stdout",
     "output_type": "stream",
     "text": [
      "  Region  Attendance\n",
      "0   East   83.276923\n",
      "1  North   82.655556\n",
      "2  South   79.920000\n",
      "3   West   85.000000\n"
     ]
    }
   ],
   "source": [
    "df_2023 = df[df['Year'] == 2023]\n",
    "avg_2023 = df_2023.groupby(['Region'])['Attendance'].mean().reset_index()\n",
    "print(avg_2023)"
   ]
  },
  {
   "cell_type": "code",
   "execution_count": null,
   "id": "5cee56a8-5225-4916-b289-03310f7f5284",
   "metadata": {},
   "outputs": [],
   "source": []
  }
 ],
 "metadata": {
  "kernelspec": {
   "display_name": "Python 3 (ipykernel)",
   "language": "python",
   "name": "python3"
  },
  "language_info": {
   "codemirror_mode": {
    "name": "ipython",
    "version": 3
   },
   "file_extension": ".py",
   "mimetype": "text/x-python",
   "name": "python",
   "nbconvert_exporter": "python",
   "pygments_lexer": "ipython3",
   "version": "3.13.3"
  }
 },
 "nbformat": 4,
 "nbformat_minor": 5
}
