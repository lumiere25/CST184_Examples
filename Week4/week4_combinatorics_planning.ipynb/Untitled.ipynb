{
 "cells": [
  {
   "cell_type": "code",
   "execution_count": null,
   "id": "8b349a6b-4360-4d49-b103-6a313df57cd2",
   "metadata": {},
   "outputs": [],
   "source": [
    "\n",
    "# Week 4 – Combinatorics in Python\n",
    "\n",
    "import math\n",
    "from itertools import permutations, combinations\n",
    "\n",
    "# Step 1: Define energy strategies\n",
    "strategies = ['Solar', 'Wind', 'Hydro', 'Geothermal', 'Biomass']\n",
    "print(\"Available strategies:\", strategies)\n",
    "\n",
    "# Step 2: How many combinations of 3 strategies (order doesn't matter)?\n",
    "n = len(strategies)\n",
    "r = 3\n",
    "print(\"\\nCombinations (nCr):\")\n",
    "print(f\"From {n} strategies, choosing {r} gives:\", math.comb(n, r))\n",
    "\n",
    "# Step 3: How many permutations of 3 strategies (order matters)?\n",
    "print(\"\\nPermutations (nPr):\")\n",
    "print(f\"From {n} strategies, arranging {r} gives:\", math.perm(n, r))\n",
    "\n",
    "# Step 4: List all combinations\n",
    "print(\"\\nAll possible combinations of 3 strategies:\")\n",
    "for combo in combinations(strategies, r):\n",
    "    print(combo)\n",
    "\n",
    "# Step 5: List first 5 permutations\n",
    "print(\"\\nSample permutations of 3 strategies (first 5 only):\")\n",
    "for i, perm in enumerate(permutations(strategies, r)):\n",
    "    print(perm)\n",
    "    if i == 4:\n",
    "        break"
   ]
  }
 ],
 "metadata": {
  "kernelspec": {
   "display_name": "Python 3 (ipykernel)",
   "language": "python",
   "name": "python3"
  },
  "language_info": {
   "codemirror_mode": {
    "name": "ipython",
    "version": 3
   },
   "file_extension": ".py",
   "mimetype": "text/x-python",
   "name": "python",
   "nbconvert_exporter": "python",
   "pygments_lexer": "ipython3",
   "version": "3.13.3"
  }
 },
 "nbformat": 4,
 "nbformat_minor": 5
}
